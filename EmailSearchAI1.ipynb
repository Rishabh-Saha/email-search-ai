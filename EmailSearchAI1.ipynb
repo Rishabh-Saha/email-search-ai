{
 "cells": [
  {
   "cell_type": "markdown",
   "id": "ba19daae",
   "metadata": {},
   "source": [
    "# EmailSearchAI\n",
    "\n",
    "A generative search system for emails that helps organisations find and validate past decisions, strategies, and data in a huge corpus of email threads."
   ]
  },
  {
   "cell_type": "markdown",
   "id": "34a6b32d",
   "metadata": {},
   "source": [
    "Steps:\n",
    "\n",
    "1. Ingest emails and their metadata into a vector database.\n",
    "2. Implement a retrieval-augmented generation (RAG) architecture.\n",
    "3. Use embeddings to find relevant email threads.\n",
    "4. Generate responses based on retrieved emails.\n"
   ]
  },
  {
   "cell_type": "markdown",
   "id": "ee066bb4",
   "metadata": {},
   "source": [
    "## The Embedding Layer"
   ]
  },
  {
   "cell_type": "markdown",
   "id": "63c37555",
   "metadata": {},
   "source": [
    "### About dataset\n",
    "- The dataset is provided in CSV and Pickle formats for ease of use.\n",
    "- Each thread contains multiple emails, allowing for analysis of conversation flow and decision-making processes.\n",
    "- Human-generated summaries enable quick understanding and validation of thread content.\n",
    "- Suitable for tasks such as search, summarization, and retrieval-augmented generation in enterprise settings.\n",
    "\n",
    "**Email Thread Summary Dataset**\n",
    "\n",
    "**Overview:**  \n",
    "The Email Thread Dataset consists of two main files: `email_thread_details` and `email_thread_summaries`. These files collectively offer a comprehensive compilation of email thread information alongside human-generated summaries.\n",
    "\n",
    "**Email Thread Details**  \n",
    "*Description:*  \n",
    "The `email_thread_details` file provides a detailed perspective on individual email threads, encompassing crucial information such as subject, timestamp, sender, recipients, and the content of the email.\n",
    "\n",
    "*Columns:*\n",
    "- `thread_id`: A unique identifier for each email thread.\n",
    "- `subject`: Subject of the email thread.\n",
    "- `timestamp`: Timestamp indicating when the message was sent.\n",
    "- `from`: Sender of the email.\n",
    "- `to`: List of recipients of the email.\n",
    "- `body`: Content of the email message.\n",
    "\n",
    "*Additional Information:*  \n",
    "The \"to\" column is available in both CSV and Pickle (pkl) formats, facilitating convenient access to recipient information as a column of lists of strings.\n",
    "\n",
    "**Email Thread Summaries**  \n",
    "*Description:*  \n",
    "The `email_thread_summaries` file contains concise summaries crafted by human annotators for each email thread, offering a high-level overview of the content.\n",
    "\n",
    "*Columns:*\n",
    "- `thread_id`: A unique identifier for each email thread.\n",
    "- `summary`: A concise summary of the email thread.\n",
    "\n",
    "**Dataset Structure:**  \n",
    "The dataset is organized into threads and emails. There are a total of 4,167 threads and 21,684 emails, providing a rich source of information for analysis and research purposes.\n",
    "\n",
    "- Threads: 4,167 threads  \n",
    "- Emails: 21,684 emails\n",
    "\n",
    "**Language:**  \n",
    "- Languages: English (en)"
   ]
  },
  {
   "cell_type": "code",
   "execution_count": 1,
   "id": "b299de74",
   "metadata": {},
   "outputs": [
    {
     "name": "stderr",
     "output_type": "stream",
     "text": [
      "/Users/rishabhsaha/repo/email-search-ai/.venv/lib/python3.12/site-packages/tqdm/auto.py:21: TqdmWarning: IProgress not found. Please update jupyter and ipywidgets. See https://ipywidgets.readthedocs.io/en/stable/user_install.html\n",
      "  from .autonotebook import tqdm as notebook_tqdm\n",
      "/Users/rishabhsaha/repo/email-search-ai/.venv/lib/python3.12/site-packages/transformers/utils/generic.py:441: FutureWarning: `torch.utils._pytree._register_pytree_node` is deprecated. Please use `torch.utils._pytree.register_pytree_node` instead.\n",
      "  _torch_pytree._register_pytree_node(\n"
     ]
    }
   ],
   "source": [
    "import pandas as pd\n",
    "import numpy as np\n",
    "import torch\n",
    "from transformers import AutoTokenizer, AutoModel\n",
    "from sentence_transformers import SentenceTransformer\n",
    "import chromadb\n",
    "import openai\n",
    "import tiktoken\n",
    "from huggingface_hub import hf_hub_download\n",
    "import matplotlib.pyplot as plt\n",
    "import seaborn as sns\n",
    "from bs4 import BeautifulSoup\n",
    "from dotenv import load_dotenv\n",
    "import os\n",
    "import re"
   ]
  },
  {
   "cell_type": "code",
   "execution_count": null,
   "id": "dd9acdfd",
   "metadata": {},
   "outputs": [],
   "source": [
    "email_thread_details = pd.read_csv(\"./dataset/csv/trimmed_email_thread_details.csv\")\n",
    "email_thread_summaries = pd.read_csv(\"./dataset/csv/trimmed_email_thread_summaries.csv\")"
   ]
  },
  {
   "cell_type": "code",
   "execution_count": 3,
   "id": "773263da",
   "metadata": {},
   "outputs": [
    {
     "data": {
      "text/html": [
       "<div>\n",
       "<style scoped>\n",
       "    .dataframe tbody tr th:only-of-type {\n",
       "        vertical-align: middle;\n",
       "    }\n",
       "\n",
       "    .dataframe tbody tr th {\n",
       "        vertical-align: top;\n",
       "    }\n",
       "\n",
       "    .dataframe thead th {\n",
       "        text-align: right;\n",
       "    }\n",
       "</style>\n",
       "<table border=\"1\" class=\"dataframe\">\n",
       "  <thead>\n",
       "    <tr style=\"text-align: right;\">\n",
       "      <th></th>\n",
       "      <th>thread_id</th>\n",
       "      <th>subject</th>\n",
       "      <th>timestamp</th>\n",
       "      <th>from</th>\n",
       "      <th>to</th>\n",
       "      <th>body</th>\n",
       "    </tr>\n",
       "  </thead>\n",
       "  <tbody>\n",
       "    <tr>\n",
       "      <th>0</th>\n",
       "      <td>1</td>\n",
       "      <td>FW: Master Termination Log</td>\n",
       "      <td>2002-01-29 11:23:42</td>\n",
       "      <td>Gossett, Jeffrey C. JGOSSET</td>\n",
       "      <td>['Giron', 'Darron C. Dgiron', 'Love', 'Phillip...</td>\n",
       "      <td>\\n\\n -----Original Message-----\\nFrom: =09Ther...</td>\n",
       "    </tr>\n",
       "    <tr>\n",
       "      <th>1</th>\n",
       "      <td>1</td>\n",
       "      <td>FW: Master Termination Log</td>\n",
       "      <td>2002-01-31 12:50:00</td>\n",
       "      <td>Theriot, Kim S. KTHERIO</td>\n",
       "      <td>['Murphy', 'Melissa Mmurphy', 'Gossett', 'Jeff...</td>\n",
       "      <td>\\n\\n -----Original Message-----\\nFrom: =09Panu...</td>\n",
       "    </tr>\n",
       "    <tr>\n",
       "      <th>2</th>\n",
       "      <td>1</td>\n",
       "      <td>FW: Master Termination Log</td>\n",
       "      <td>2002-02-05 15:03:35</td>\n",
       "      <td>Theriot, Kim S. KTHERIO</td>\n",
       "      <td>['Murphy', 'Melissa Mmurphy', 'Anderson', 'Dia...</td>\n",
       "      <td>Note to Stephanie Panus....\\n\\nStephanie...ple...</td>\n",
       "    </tr>\n",
       "    <tr>\n",
       "      <th>3</th>\n",
       "      <td>1</td>\n",
       "      <td>FW: Master Termination Log</td>\n",
       "      <td>2002-02-05 15:06:25</td>\n",
       "      <td>Theriot, Kim S. KTHERIO</td>\n",
       "      <td>['Hall', 'D. Todd Thall', 'Sweeney', 'Kevin Ks...</td>\n",
       "      <td>\\n\\n -----Original Message-----\\nFrom: =09Panu...</td>\n",
       "    </tr>\n",
       "    <tr>\n",
       "      <th>4</th>\n",
       "      <td>1</td>\n",
       "      <td>FW: Master Termination Log</td>\n",
       "      <td>2002-05-28 07:20:35</td>\n",
       "      <td>Kelly, Katherine L. KKELLY</td>\n",
       "      <td>['Germany', 'Chris Cgerman']</td>\n",
       "      <td>\\n\\n -----Original Message-----\\nFrom: =09McMi...</td>\n",
       "    </tr>\n",
       "  </tbody>\n",
       "</table>\n",
       "</div>"
      ],
      "text/plain": [
       "   thread_id                     subject            timestamp  \\\n",
       "0          1  FW: Master Termination Log  2002-01-29 11:23:42   \n",
       "1          1  FW: Master Termination Log  2002-01-31 12:50:00   \n",
       "2          1  FW: Master Termination Log  2002-02-05 15:03:35   \n",
       "3          1  FW: Master Termination Log  2002-02-05 15:06:25   \n",
       "4          1  FW: Master Termination Log  2002-05-28 07:20:35   \n",
       "\n",
       "                          from  \\\n",
       "0  Gossett, Jeffrey C. JGOSSET   \n",
       "1      Theriot, Kim S. KTHERIO   \n",
       "2      Theriot, Kim S. KTHERIO   \n",
       "3      Theriot, Kim S. KTHERIO   \n",
       "4   Kelly, Katherine L. KKELLY   \n",
       "\n",
       "                                                  to  \\\n",
       "0  ['Giron', 'Darron C. Dgiron', 'Love', 'Phillip...   \n",
       "1  ['Murphy', 'Melissa Mmurphy', 'Gossett', 'Jeff...   \n",
       "2  ['Murphy', 'Melissa Mmurphy', 'Anderson', 'Dia...   \n",
       "3  ['Hall', 'D. Todd Thall', 'Sweeney', 'Kevin Ks...   \n",
       "4                       ['Germany', 'Chris Cgerman']   \n",
       "\n",
       "                                                body  \n",
       "0  \\n\\n -----Original Message-----\\nFrom: =09Ther...  \n",
       "1  \\n\\n -----Original Message-----\\nFrom: =09Panu...  \n",
       "2  Note to Stephanie Panus....\\n\\nStephanie...ple...  \n",
       "3  \\n\\n -----Original Message-----\\nFrom: =09Panu...  \n",
       "4  \\n\\n -----Original Message-----\\nFrom: =09McMi...  "
      ]
     },
     "execution_count": 3,
     "metadata": {},
     "output_type": "execute_result"
    }
   ],
   "source": [
    "email_thread_details.head()"
   ]
  },
  {
   "cell_type": "code",
   "execution_count": 4,
   "id": "40ae79fd",
   "metadata": {},
   "outputs": [],
   "source": [
    "email_thread_summaries['text_length'] = email_thread_summaries['summary'].apply(lambda x: len(x.split(' ')))"
   ]
  },
  {
   "cell_type": "code",
   "execution_count": 5,
   "id": "65e40df1",
   "metadata": {},
   "outputs": [],
   "source": [
    "# Count number of emails per thread\n",
    "email_thread_counts = email_thread_details.groupby('thread_id').size()\n",
    "email_thread_summaries['num_emails'] = email_thread_summaries['thread_id'].map(email_thread_counts)"
   ]
  },
  {
   "cell_type": "code",
   "execution_count": 56,
   "id": "219c733c",
   "metadata": {},
   "outputs": [],
   "source": [
    "# Use an LLM to generate a summary of the related emails and people involved in the conversations\n",
    "\n",
    "def generate_response(related_emails):\n",
    "    response = openai.chat.completions.create(\n",
    "        model=\"gpt-4\",\n",
    "        messages=[\n",
    "            {\"role\": \"system\", \"content\": \"You are a helpful assistant that summarizes email threads and identifies key participants.\"},\n",
    "            {\"role\": \"user\", \"content\": f\"Summarize the following emails and identify the key people involved:\\n\\n{related_emails}\"}\n",
    "    ]\n",
    ")\n",
    "\n",
    "    return response.choices[0].message.content.split('\\n')"
   ]
  },
  {
   "cell_type": "code",
   "execution_count": 51,
   "id": "5205d64f",
   "metadata": {},
   "outputs": [
    {
     "data": {
      "text/html": [
       "<div>\n",
       "<style scoped>\n",
       "    .dataframe tbody tr th:only-of-type {\n",
       "        vertical-align: middle;\n",
       "    }\n",
       "\n",
       "    .dataframe tbody tr th {\n",
       "        vertical-align: top;\n",
       "    }\n",
       "\n",
       "    .dataframe thead th {\n",
       "        text-align: right;\n",
       "    }\n",
       "</style>\n",
       "<table border=\"1\" class=\"dataframe\">\n",
       "  <thead>\n",
       "    <tr style=\"text-align: right;\">\n",
       "      <th></th>\n",
       "      <th>thread_id</th>\n",
       "      <th>subject</th>\n",
       "      <th>timestamp</th>\n",
       "      <th>from</th>\n",
       "      <th>to</th>\n",
       "      <th>body</th>\n",
       "    </tr>\n",
       "  </thead>\n",
       "  <tbody>\n",
       "    <tr>\n",
       "      <th>5</th>\n",
       "      <td>2</td>\n",
       "      <td>Credit Group Lunch</td>\n",
       "      <td>2000-01-12 05:26:00</td>\n",
       "      <td>Tana Jones</td>\n",
       "      <td>['Suzanne Adams']</td>\n",
       "      <td>I'll be there...</td>\n",
       "    </tr>\n",
       "    <tr>\n",
       "      <th>6</th>\n",
       "      <td>2</td>\n",
       "      <td>Credit Group Lunch</td>\n",
       "      <td>2000-02-15 01:08:00</td>\n",
       "      <td>Tana Jones</td>\n",
       "      <td>['Suzanne Adams']</td>\n",
       "      <td>I will attend.</td>\n",
       "    </tr>\n",
       "    <tr>\n",
       "      <th>7</th>\n",
       "      <td>2</td>\n",
       "      <td>Credit Group Lunch</td>\n",
       "      <td>2000-04-18 04:54:00</td>\n",
       "      <td>Carol St Clair</td>\n",
       "      <td>['Suzanne Adams']</td>\n",
       "      <td>Suzanne:\\nHere is the complete list of credit ...</td>\n",
       "    </tr>\n",
       "    <tr>\n",
       "      <th>8</th>\n",
       "      <td>2</td>\n",
       "      <td>Credit Group Lunch</td>\n",
       "      <td>2000-04-18 06:13:00</td>\n",
       "      <td>Carol St Clair</td>\n",
       "      <td>['Suzanne Adams']</td>\n",
       "      <td>Suzanne:\\nCould you please check the names of ...</td>\n",
       "    </tr>\n",
       "    <tr>\n",
       "      <th>9</th>\n",
       "      <td>2</td>\n",
       "      <td>Credit Group Lunch</td>\n",
       "      <td>2000-04-18 08:25:00</td>\n",
       "      <td>Mark Taylor</td>\n",
       "      <td>['Suzanne Adams']</td>\n",
       "      <td>I will not be able to attend.\\n\\n\\n\\n\\nSuzanne...</td>\n",
       "    </tr>\n",
       "    <tr>\n",
       "      <th>10</th>\n",
       "      <td>2</td>\n",
       "      <td>Credit Group Lunch</td>\n",
       "      <td>2000-04-18 08:29:00</td>\n",
       "      <td>Sara Shackleton</td>\n",
       "      <td>['Kaye Ellis']</td>\n",
       "      <td>Gosh, I guessed right!!!!\\n\\n\\n\\n\\nKaye Ellis\\...</td>\n",
       "    </tr>\n",
       "    <tr>\n",
       "      <th>11</th>\n",
       "      <td>2</td>\n",
       "      <td>Credit Group Lunch</td>\n",
       "      <td>2000-04-18 09:18:00</td>\n",
       "      <td>Carol St Clair</td>\n",
       "      <td>['Suzanne Adams']</td>\n",
       "      <td>yes.  That's okay.\\nCarol</td>\n",
       "    </tr>\n",
       "  </tbody>\n",
       "</table>\n",
       "</div>"
      ],
      "text/plain": [
       "    thread_id             subject            timestamp             from  \\\n",
       "5           2  Credit Group Lunch  2000-01-12 05:26:00       Tana Jones   \n",
       "6           2  Credit Group Lunch  2000-02-15 01:08:00       Tana Jones   \n",
       "7           2  Credit Group Lunch  2000-04-18 04:54:00   Carol St Clair   \n",
       "8           2  Credit Group Lunch  2000-04-18 06:13:00   Carol St Clair   \n",
       "9           2  Credit Group Lunch  2000-04-18 08:25:00      Mark Taylor   \n",
       "10          2  Credit Group Lunch  2000-04-18 08:29:00  Sara Shackleton   \n",
       "11          2  Credit Group Lunch  2000-04-18 09:18:00   Carol St Clair   \n",
       "\n",
       "                   to                                               body  \n",
       "5   ['Suzanne Adams']                                   I'll be there...  \n",
       "6   ['Suzanne Adams']                                     I will attend.  \n",
       "7   ['Suzanne Adams']  Suzanne:\\nHere is the complete list of credit ...  \n",
       "8   ['Suzanne Adams']  Suzanne:\\nCould you please check the names of ...  \n",
       "9   ['Suzanne Adams']  I will not be able to attend.\\n\\n\\n\\n\\nSuzanne...  \n",
       "10     ['Kaye Ellis']  Gosh, I guessed right!!!!\\n\\n\\n\\n\\nKaye Ellis\\...  \n",
       "11  ['Suzanne Adams']                          yes.  That's okay.\\nCarol  "
      ]
     },
     "execution_count": 51,
     "metadata": {},
     "output_type": "execute_result"
    }
   ],
   "source": [
    "email_thread_details[email_thread_details['thread_id'] == 2]"
   ]
  },
  {
   "cell_type": "code",
   "execution_count": 54,
   "id": "e4988dd9",
   "metadata": {},
   "outputs": [
    {
     "data": {
      "text/plain": [
       "[\"I'll be there...\",\n",
       " 'I will attend.',\n",
       " \"Suzanne:\\nHere is the complete list of credit folks.  Please send an e-mail to each of \\nthem concerning the 5th.  Please include the description that I have bolded.  \\nIn our group, you don't need to include Marie or Shari. Thanks.\\n\\nCarol\\n---------------------- Forwarded by Carol St Clair/HOU/ECT on 04/18/2000 \\n11:52 AM ---------------------------\\n   \\n\\n\\nFrom:  John Suttle                                                            \\n 04/18/2000 11:47 AM\\t\\n\\t\\n\\t\\n\\t                           \\n\\t\\n\\nTo: Carol St Clair/HOU/ECT@ECT\\ncc:  \\nSubject: Re: Credit Group Lunch  \\n\\nCarol,\\n\\nThree more have recently joined our group:\\nEd Sacks\\nBrad Schneider\\nWendy LeBrocq\\n\\nJS\\n\\n\\n\\nCarol St Clair\\n04/18/2000 11:43 AM\\nTo: John Suttle/HOU/ECT@ECT\\ncc:  \\nSubject: Credit Group Lunch\\n\\nJohn:\\nSara and I would like to hold another lunch with your group on Friday, May \\n5th to go through in detail how the ISDA and CSA Masters and Schedules work.  \\nCould you please take a look at this list and let me know of any additions or \\ndeletions?  Thanks.\\n\\nCarol\\n\\nBill Bradford\\nDebbie Brackett\\nTanya Rohauer\\nRod Nelson\\nRussell Diamond\\nVeronica Espinoza\\nTracy Ngo\\nBrant Reves\\nKevin Radous\\nTom Moran\\nChristopher Smith\\nLesli Campbell\\nCathy Tudon\\nNidia Martinez\\nMolly Harris\\n\\nThanks.\\n\\nCarol\\n\\n\\n\\n\\n\\n\",\n",
       " \"Suzanne:\\nCould you please check the names of Cathy Tudon and Nidia Martinez?  They \\nneed to be included on this and I wasn't sure if who we sent it to covered \\nthem.  Seems like last time we had a problem sending it to them.\\nCarol\",\n",
       " 'I will not be able to attend.\\n\\n\\n\\n\\nSuzanne Adams\\n04/18/2000 12:05 PM\\nTo: Carol St Clair/HOU/ECT@ECT, Mark Taylor/HOU/ECT@ECT, Sara \\nShackleton/HOU/ECT@ECT, Tana Jones/HOU/ECT@ECT, Susan Flynn/HOU/ECT@ECT, \\nSusan Bailey/HOU/ECT@ECT, Tanya Rohauer/HOU/ECT@ECT, William S \\nBradford/HOU/ECT@ECT, Debbie R Brackett/HOU/ECT@ECT, Russell \\nDiamond/HOU/ECT@ECT, Veronica Espinoza/Corp/Enron@ENRON, Tracy \\nNgo/HOU/ECT@ECT, Brant Reves/HOU/ECT@ECT, Rod Nelson/HOU/ECT@ECT, John \\nSuttle/HOU/ECT@ECT, Tom Moran/HOU/ECT@ECT, Christopher Smith/HOU/ECT@ECT, \\nLesli Campbell/HOU/ECT@ECT, Mary Tudon/HOU/ECT@ECT, Paul \\nRadous/Corp/Enron@ENRON, Molly Harris/HOU/ECT@ECT, Nidia Mendoza/HOU/ECT@ECT, \\nEdward Sacks/Corp/Enron@Enron, Brad Schneider/Corp/Enron@Enron, Wendi \\nLeBrocq/Corp/Enron@Enron\\ncc:  \\nSubject: Credit Group Lunch\\n\\nA lunch meeting has been scheduled for Friday, May 5, 2000, from 12:00 p.m. \\nuntil 1:30 p.m. in 30C2 to go through in detail how the ISDA and CSA Masters \\nand Schedules work.\\n\\nPlease reply as soon as possible if you are going to attend this lunch \\nmeeting (for catering purposes).  Thanks.\\n\\n',\n",
       " 'Gosh, I guessed right!!!!\\n\\n\\n\\n\\nKaye Ellis\\n04/18/2000 01:51 PM\\nTo: Sara Shackleton/HOU/ECT@ECT\\ncc:  \\nSubject: Re: Credit Group Lunch  \\n\\nJeff Sorenson would like the meeting on May 12 to be from 11:30a to 1p.\\n\\n',\n",
       " \"yes.  That's okay.\\nCarol\"]"
      ]
     },
     "execution_count": 54,
     "metadata": {},
     "output_type": "execute_result"
    }
   ],
   "source": [
    "email_thread_details[email_thread_details['thread_id'] == 2]['body'].tolist()"
   ]
  },
  {
   "cell_type": "code",
   "execution_count": 57,
   "id": "2886b6c7",
   "metadata": {},
   "outputs": [
    {
     "data": {
      "text/plain": [
       "['The email thread discusses the planning of a Credit Group Lunch meeting scheduled for Friday, May 5th, 2000. The main purpose of the lunch is to get into details of how the ISDA and CSA Masters and Schedules work. ',\n",
       " '',\n",
       " 'The key participants in this thread are:',\n",
       " '1. Carol St Clair: She initiates the plan for the meeting and communicates with Suzanne about the same. She also confirms the list of attendees with John.',\n",
       " '2. John Suttle: He contributes to the discussion by providing the names of additional attendees - Ed Sacks, Brad Schneider, and Wendy LeBrocq.',\n",
       " \"3. Suzanne Adams: She is responsible for sending the invitations to the meeting and confirms attendance. However, she mentions that she won't be able to attend.\",\n",
       " \"4. Kaye Ellis: She informs about Jeff Sorenson's availability.\",\n",
       " '',\n",
       " 'It’s also important to note that Carol requests Suzanne to check and ensure the inclusion of Cathy Tudon and Nidia Martinez in the invitees list.']"
      ]
     },
     "execution_count": 57,
     "metadata": {},
     "output_type": "execute_result"
    }
   ],
   "source": [
    "generate_response(email_thread_details[email_thread_details['thread_id'] == 2]['body'].tolist())"
   ]
  },
  {
   "cell_type": "code",
   "execution_count": 58,
   "id": "2efef0ca",
   "metadata": {},
   "outputs": [
    {
     "data": {
      "text/plain": [
       "1    A lunch meeting has been scheduled for May 5th...\n",
       "Name: summary, dtype: object"
      ]
     },
     "execution_count": 58,
     "metadata": {},
     "output_type": "execute_result"
    }
   ],
   "source": [
    "email_thread_summaries[email_thread_summaries['thread_id'] == 2]['summary']"
   ]
  },
  {
   "cell_type": "code",
   "execution_count": 59,
   "id": "d2f15a0a",
   "metadata": {},
   "outputs": [
    {
     "ename": "BadRequestError",
     "evalue": "Error code: 400 - {'error': {'message': \"This model's maximum context length is 8192 tokens. However, your messages resulted in 8859 tokens. Please reduce the length of the messages.\", 'type': 'invalid_request_error', 'param': 'messages', 'code': 'context_length_exceeded'}}",
     "output_type": "error",
     "traceback": [
      "\u001b[31m---------------------------------------------------------------------------\u001b[39m",
      "\u001b[31mBadRequestError\u001b[39m                           Traceback (most recent call last)",
      "\u001b[36mCell\u001b[39m\u001b[36m \u001b[39m\u001b[32mIn[59]\u001b[39m\u001b[32m, line 3\u001b[39m\n\u001b[32m      1\u001b[39m \u001b[38;5;66;03m# Add a generated summary as a column in email_thread_summary\u001b[39;00m\n\u001b[32m----> \u001b[39m\u001b[32m3\u001b[39m email_thread_summaries[\u001b[33m'\u001b[39m\u001b[33mgenerated_summary\u001b[39m\u001b[33m'\u001b[39m] = \u001b[43memail_thread_summaries\u001b[49m\u001b[43m[\u001b[49m\u001b[33;43m'\u001b[39;49m\u001b[33;43mthread_id\u001b[39;49m\u001b[33;43m'\u001b[39;49m\u001b[43m]\u001b[49m\u001b[43m.\u001b[49m\u001b[43mapply\u001b[49m\u001b[43m(\u001b[49m\u001b[38;5;28;43;01mlambda\u001b[39;49;00m\u001b[43m \u001b[49m\u001b[43mx\u001b[49m\u001b[43m:\u001b[49m\u001b[43m \u001b[49m\u001b[43mgenerate_response\u001b[49m\u001b[43m(\u001b[49m\u001b[43memail_thread_details\u001b[49m\u001b[43m[\u001b[49m\u001b[43memail_thread_details\u001b[49m\u001b[43m[\u001b[49m\u001b[33;43m'\u001b[39;49m\u001b[33;43mthread_id\u001b[39;49m\u001b[33;43m'\u001b[39;49m\u001b[43m]\u001b[49m\u001b[43m \u001b[49m\u001b[43m==\u001b[49m\u001b[43m \u001b[49m\u001b[43mx\u001b[49m\u001b[43m]\u001b[49m\u001b[43m[\u001b[49m\u001b[33;43m'\u001b[39;49m\u001b[33;43mbody\u001b[39;49m\u001b[33;43m'\u001b[39;49m\u001b[43m]\u001b[49m\u001b[43m.\u001b[49m\u001b[43mtolist\u001b[49m\u001b[43m(\u001b[49m\u001b[43m)\u001b[49m\u001b[43m)\u001b[49m\u001b[43m \u001b[49m\u001b[38;5;28;43;01mif\u001b[39;49;00m\u001b[43m \u001b[49m\u001b[43mx\u001b[49m\u001b[43m \u001b[49m\u001b[38;5;129;43;01min\u001b[39;49;00m\u001b[43m \u001b[49m\u001b[43memail_thread_details\u001b[49m\u001b[43m[\u001b[49m\u001b[33;43m'\u001b[39;49m\u001b[33;43mthread_id\u001b[39;49m\u001b[33;43m'\u001b[39;49m\u001b[43m]\u001b[49m\u001b[43m.\u001b[49m\u001b[43mvalues\u001b[49m\u001b[43m \u001b[49m\u001b[38;5;28;43;01melse\u001b[39;49;00m\u001b[43m \u001b[49m\u001b[43m[\u001b[49m\u001b[43m]\u001b[49m\u001b[43m)\u001b[49m\n",
      "\u001b[36mFile \u001b[39m\u001b[32m~/repo/email-search-ai/.venv/lib/python3.12/site-packages/pandas/core/series.py:4935\u001b[39m, in \u001b[36mSeries.apply\u001b[39m\u001b[34m(self, func, convert_dtype, args, by_row, **kwargs)\u001b[39m\n\u001b[32m   4800\u001b[39m \u001b[38;5;28;01mdef\u001b[39;00m\u001b[38;5;250m \u001b[39m\u001b[34mapply\u001b[39m(\n\u001b[32m   4801\u001b[39m     \u001b[38;5;28mself\u001b[39m,\n\u001b[32m   4802\u001b[39m     func: AggFuncType,\n\u001b[32m   (...)\u001b[39m\u001b[32m   4807\u001b[39m     **kwargs,\n\u001b[32m   4808\u001b[39m ) -> DataFrame | Series:\n\u001b[32m   4809\u001b[39m \u001b[38;5;250m    \u001b[39m\u001b[33;03m\"\"\"\u001b[39;00m\n\u001b[32m   4810\u001b[39m \u001b[33;03m    Invoke function on values of Series.\u001b[39;00m\n\u001b[32m   4811\u001b[39m \n\u001b[32m   (...)\u001b[39m\u001b[32m   4926\u001b[39m \u001b[33;03m    dtype: float64\u001b[39;00m\n\u001b[32m   4927\u001b[39m \u001b[33;03m    \"\"\"\u001b[39;00m\n\u001b[32m   4928\u001b[39m     \u001b[38;5;28;01mreturn\u001b[39;00m \u001b[43mSeriesApply\u001b[49m\u001b[43m(\u001b[49m\n\u001b[32m   4929\u001b[39m \u001b[43m        \u001b[49m\u001b[38;5;28;43mself\u001b[39;49m\u001b[43m,\u001b[49m\n\u001b[32m   4930\u001b[39m \u001b[43m        \u001b[49m\u001b[43mfunc\u001b[49m\u001b[43m,\u001b[49m\n\u001b[32m   4931\u001b[39m \u001b[43m        \u001b[49m\u001b[43mconvert_dtype\u001b[49m\u001b[43m=\u001b[49m\u001b[43mconvert_dtype\u001b[49m\u001b[43m,\u001b[49m\n\u001b[32m   4932\u001b[39m \u001b[43m        \u001b[49m\u001b[43mby_row\u001b[49m\u001b[43m=\u001b[49m\u001b[43mby_row\u001b[49m\u001b[43m,\u001b[49m\n\u001b[32m   4933\u001b[39m \u001b[43m        \u001b[49m\u001b[43margs\u001b[49m\u001b[43m=\u001b[49m\u001b[43margs\u001b[49m\u001b[43m,\u001b[49m\n\u001b[32m   4934\u001b[39m \u001b[43m        \u001b[49m\u001b[43mkwargs\u001b[49m\u001b[43m=\u001b[49m\u001b[43mkwargs\u001b[49m\u001b[43m,\u001b[49m\n\u001b[32m-> \u001b[39m\u001b[32m4935\u001b[39m \u001b[43m    \u001b[49m\u001b[43m)\u001b[49m\u001b[43m.\u001b[49m\u001b[43mapply\u001b[49m\u001b[43m(\u001b[49m\u001b[43m)\u001b[49m\n",
      "\u001b[36mFile \u001b[39m\u001b[32m~/repo/email-search-ai/.venv/lib/python3.12/site-packages/pandas/core/apply.py:1422\u001b[39m, in \u001b[36mSeriesApply.apply\u001b[39m\u001b[34m(self)\u001b[39m\n\u001b[32m   1419\u001b[39m     \u001b[38;5;28;01mreturn\u001b[39;00m \u001b[38;5;28mself\u001b[39m.apply_compat()\n\u001b[32m   1421\u001b[39m \u001b[38;5;66;03m# self.func is Callable\u001b[39;00m\n\u001b[32m-> \u001b[39m\u001b[32m1422\u001b[39m \u001b[38;5;28;01mreturn\u001b[39;00m \u001b[38;5;28;43mself\u001b[39;49m\u001b[43m.\u001b[49m\u001b[43mapply_standard\u001b[49m\u001b[43m(\u001b[49m\u001b[43m)\u001b[49m\n",
      "\u001b[36mFile \u001b[39m\u001b[32m~/repo/email-search-ai/.venv/lib/python3.12/site-packages/pandas/core/apply.py:1502\u001b[39m, in \u001b[36mSeriesApply.apply_standard\u001b[39m\u001b[34m(self)\u001b[39m\n\u001b[32m   1496\u001b[39m \u001b[38;5;66;03m# row-wise access\u001b[39;00m\n\u001b[32m   1497\u001b[39m \u001b[38;5;66;03m# apply doesn't have a `na_action` keyword and for backward compat reasons\u001b[39;00m\n\u001b[32m   1498\u001b[39m \u001b[38;5;66;03m# we need to give `na_action=\"ignore\"` for categorical data.\u001b[39;00m\n\u001b[32m   1499\u001b[39m \u001b[38;5;66;03m# TODO: remove the `na_action=\"ignore\"` when that default has been changed in\u001b[39;00m\n\u001b[32m   1500\u001b[39m \u001b[38;5;66;03m#  Categorical (GH51645).\u001b[39;00m\n\u001b[32m   1501\u001b[39m action = \u001b[33m\"\u001b[39m\u001b[33mignore\u001b[39m\u001b[33m\"\u001b[39m \u001b[38;5;28;01mif\u001b[39;00m \u001b[38;5;28misinstance\u001b[39m(obj.dtype, CategoricalDtype) \u001b[38;5;28;01melse\u001b[39;00m \u001b[38;5;28;01mNone\u001b[39;00m\n\u001b[32m-> \u001b[39m\u001b[32m1502\u001b[39m mapped = \u001b[43mobj\u001b[49m\u001b[43m.\u001b[49m\u001b[43m_map_values\u001b[49m\u001b[43m(\u001b[49m\n\u001b[32m   1503\u001b[39m \u001b[43m    \u001b[49m\u001b[43mmapper\u001b[49m\u001b[43m=\u001b[49m\u001b[43mcurried\u001b[49m\u001b[43m,\u001b[49m\u001b[43m \u001b[49m\u001b[43mna_action\u001b[49m\u001b[43m=\u001b[49m\u001b[43maction\u001b[49m\u001b[43m,\u001b[49m\u001b[43m \u001b[49m\u001b[43mconvert\u001b[49m\u001b[43m=\u001b[49m\u001b[38;5;28;43mself\u001b[39;49m\u001b[43m.\u001b[49m\u001b[43mconvert_dtype\u001b[49m\n\u001b[32m   1504\u001b[39m \u001b[43m\u001b[49m\u001b[43m)\u001b[49m\n\u001b[32m   1506\u001b[39m \u001b[38;5;28;01mif\u001b[39;00m \u001b[38;5;28mlen\u001b[39m(mapped) \u001b[38;5;129;01mand\u001b[39;00m \u001b[38;5;28misinstance\u001b[39m(mapped[\u001b[32m0\u001b[39m], ABCSeries):\n\u001b[32m   1507\u001b[39m     \u001b[38;5;66;03m# GH#43986 Need to do list(mapped) in order to get treated as nested\u001b[39;00m\n\u001b[32m   1508\u001b[39m     \u001b[38;5;66;03m#  See also GH#25959 regarding EA support\u001b[39;00m\n\u001b[32m   1509\u001b[39m     \u001b[38;5;28;01mreturn\u001b[39;00m obj._constructor_expanddim(\u001b[38;5;28mlist\u001b[39m(mapped), index=obj.index)\n",
      "\u001b[36mFile \u001b[39m\u001b[32m~/repo/email-search-ai/.venv/lib/python3.12/site-packages/pandas/core/base.py:925\u001b[39m, in \u001b[36mIndexOpsMixin._map_values\u001b[39m\u001b[34m(self, mapper, na_action, convert)\u001b[39m\n\u001b[32m    922\u001b[39m \u001b[38;5;28;01mif\u001b[39;00m \u001b[38;5;28misinstance\u001b[39m(arr, ExtensionArray):\n\u001b[32m    923\u001b[39m     \u001b[38;5;28;01mreturn\u001b[39;00m arr.map(mapper, na_action=na_action)\n\u001b[32m--> \u001b[39m\u001b[32m925\u001b[39m \u001b[38;5;28;01mreturn\u001b[39;00m \u001b[43malgorithms\u001b[49m\u001b[43m.\u001b[49m\u001b[43mmap_array\u001b[49m\u001b[43m(\u001b[49m\u001b[43marr\u001b[49m\u001b[43m,\u001b[49m\u001b[43m \u001b[49m\u001b[43mmapper\u001b[49m\u001b[43m,\u001b[49m\u001b[43m \u001b[49m\u001b[43mna_action\u001b[49m\u001b[43m=\u001b[49m\u001b[43mna_action\u001b[49m\u001b[43m,\u001b[49m\u001b[43m \u001b[49m\u001b[43mconvert\u001b[49m\u001b[43m=\u001b[49m\u001b[43mconvert\u001b[49m\u001b[43m)\u001b[49m\n",
      "\u001b[36mFile \u001b[39m\u001b[32m~/repo/email-search-ai/.venv/lib/python3.12/site-packages/pandas/core/algorithms.py:1743\u001b[39m, in \u001b[36mmap_array\u001b[39m\u001b[34m(arr, mapper, na_action, convert)\u001b[39m\n\u001b[32m   1741\u001b[39m values = arr.astype(\u001b[38;5;28mobject\u001b[39m, copy=\u001b[38;5;28;01mFalse\u001b[39;00m)\n\u001b[32m   1742\u001b[39m \u001b[38;5;28;01mif\u001b[39;00m na_action \u001b[38;5;129;01mis\u001b[39;00m \u001b[38;5;28;01mNone\u001b[39;00m:\n\u001b[32m-> \u001b[39m\u001b[32m1743\u001b[39m     \u001b[38;5;28;01mreturn\u001b[39;00m \u001b[43mlib\u001b[49m\u001b[43m.\u001b[49m\u001b[43mmap_infer\u001b[49m\u001b[43m(\u001b[49m\u001b[43mvalues\u001b[49m\u001b[43m,\u001b[49m\u001b[43m \u001b[49m\u001b[43mmapper\u001b[49m\u001b[43m,\u001b[49m\u001b[43m \u001b[49m\u001b[43mconvert\u001b[49m\u001b[43m=\u001b[49m\u001b[43mconvert\u001b[49m\u001b[43m)\u001b[49m\n\u001b[32m   1744\u001b[39m \u001b[38;5;28;01melse\u001b[39;00m:\n\u001b[32m   1745\u001b[39m     \u001b[38;5;28;01mreturn\u001b[39;00m lib.map_infer_mask(\n\u001b[32m   1746\u001b[39m         values, mapper, mask=isna(values).view(np.uint8), convert=convert\n\u001b[32m   1747\u001b[39m     )\n",
      "\u001b[36mFile \u001b[39m\u001b[32mpandas/_libs/lib.pyx:2999\u001b[39m, in \u001b[36mpandas._libs.lib.map_infer\u001b[39m\u001b[34m()\u001b[39m\n",
      "\u001b[36mCell\u001b[39m\u001b[36m \u001b[39m\u001b[32mIn[59]\u001b[39m\u001b[32m, line 3\u001b[39m, in \u001b[36m<lambda>\u001b[39m\u001b[34m(x)\u001b[39m\n\u001b[32m      1\u001b[39m \u001b[38;5;66;03m# Add a generated summary as a column in email_thread_summary\u001b[39;00m\n\u001b[32m----> \u001b[39m\u001b[32m3\u001b[39m email_thread_summaries[\u001b[33m'\u001b[39m\u001b[33mgenerated_summary\u001b[39m\u001b[33m'\u001b[39m] = email_thread_summaries[\u001b[33m'\u001b[39m\u001b[33mthread_id\u001b[39m\u001b[33m'\u001b[39m].apply(\u001b[38;5;28;01mlambda\u001b[39;00m x: \u001b[43mgenerate_response\u001b[49m\u001b[43m(\u001b[49m\u001b[43memail_thread_details\u001b[49m\u001b[43m[\u001b[49m\u001b[43memail_thread_details\u001b[49m\u001b[43m[\u001b[49m\u001b[33;43m'\u001b[39;49m\u001b[33;43mthread_id\u001b[39;49m\u001b[33;43m'\u001b[39;49m\u001b[43m]\u001b[49m\u001b[43m \u001b[49m\u001b[43m==\u001b[49m\u001b[43m \u001b[49m\u001b[43mx\u001b[49m\u001b[43m]\u001b[49m\u001b[43m[\u001b[49m\u001b[33;43m'\u001b[39;49m\u001b[33;43mbody\u001b[39;49m\u001b[33;43m'\u001b[39;49m\u001b[43m]\u001b[49m\u001b[43m.\u001b[49m\u001b[43mtolist\u001b[49m\u001b[43m(\u001b[49m\u001b[43m)\u001b[49m\u001b[43m)\u001b[49m \u001b[38;5;28;01mif\u001b[39;00m x \u001b[38;5;129;01min\u001b[39;00m email_thread_details[\u001b[33m'\u001b[39m\u001b[33mthread_id\u001b[39m\u001b[33m'\u001b[39m].values \u001b[38;5;28;01melse\u001b[39;00m [])\n",
      "\u001b[36mCell\u001b[39m\u001b[36m \u001b[39m\u001b[32mIn[56]\u001b[39m\u001b[32m, line 4\u001b[39m, in \u001b[36mgenerate_response\u001b[39m\u001b[34m(related_emails)\u001b[39m\n\u001b[32m      3\u001b[39m \u001b[38;5;28;01mdef\u001b[39;00m\u001b[38;5;250m \u001b[39m\u001b[34mgenerate_response\u001b[39m(related_emails):\n\u001b[32m----> \u001b[39m\u001b[32m4\u001b[39m     response = \u001b[43mopenai\u001b[49m\u001b[43m.\u001b[49m\u001b[43mchat\u001b[49m\u001b[43m.\u001b[49m\u001b[43mcompletions\u001b[49m\u001b[43m.\u001b[49m\u001b[43mcreate\u001b[49m\u001b[43m(\u001b[49m\n\u001b[32m      5\u001b[39m \u001b[43m        \u001b[49m\u001b[43mmodel\u001b[49m\u001b[43m=\u001b[49m\u001b[33;43m\"\u001b[39;49m\u001b[33;43mgpt-4\u001b[39;49m\u001b[33;43m\"\u001b[39;49m\u001b[43m,\u001b[49m\n\u001b[32m      6\u001b[39m \u001b[43m        \u001b[49m\u001b[43mmessages\u001b[49m\u001b[43m=\u001b[49m\u001b[43m[\u001b[49m\n\u001b[32m      7\u001b[39m \u001b[43m            \u001b[49m\u001b[43m{\u001b[49m\u001b[33;43m\"\u001b[39;49m\u001b[33;43mrole\u001b[39;49m\u001b[33;43m\"\u001b[39;49m\u001b[43m:\u001b[49m\u001b[43m \u001b[49m\u001b[33;43m\"\u001b[39;49m\u001b[33;43msystem\u001b[39;49m\u001b[33;43m\"\u001b[39;49m\u001b[43m,\u001b[49m\u001b[43m \u001b[49m\u001b[33;43m\"\u001b[39;49m\u001b[33;43mcontent\u001b[39;49m\u001b[33;43m\"\u001b[39;49m\u001b[43m:\u001b[49m\u001b[43m \u001b[49m\u001b[33;43m\"\u001b[39;49m\u001b[33;43mYou are a helpful assistant that summarizes email threads and identifies key participants.\u001b[39;49m\u001b[33;43m\"\u001b[39;49m\u001b[43m}\u001b[49m\u001b[43m,\u001b[49m\n\u001b[32m      8\u001b[39m \u001b[43m            \u001b[49m\u001b[43m{\u001b[49m\u001b[33;43m\"\u001b[39;49m\u001b[33;43mrole\u001b[39;49m\u001b[33;43m\"\u001b[39;49m\u001b[43m:\u001b[49m\u001b[43m \u001b[49m\u001b[33;43m\"\u001b[39;49m\u001b[33;43muser\u001b[39;49m\u001b[33;43m\"\u001b[39;49m\u001b[43m,\u001b[49m\u001b[43m \u001b[49m\u001b[33;43m\"\u001b[39;49m\u001b[33;43mcontent\u001b[39;49m\u001b[33;43m\"\u001b[39;49m\u001b[43m:\u001b[49m\u001b[43m \u001b[49m\u001b[33;43mf\u001b[39;49m\u001b[33;43m\"\u001b[39;49m\u001b[33;43mSummarize the following emails and identify the key people involved:\u001b[39;49m\u001b[38;5;130;43;01m\\n\u001b[39;49;00m\u001b[38;5;130;43;01m\\n\u001b[39;49;00m\u001b[38;5;132;43;01m{\u001b[39;49;00m\u001b[43mrelated_emails\u001b[49m\u001b[38;5;132;43;01m}\u001b[39;49;00m\u001b[33;43m\"\u001b[39;49m\u001b[43m}\u001b[49m\n\u001b[32m      9\u001b[39m \u001b[43m    \u001b[49m\u001b[43m]\u001b[49m\n\u001b[32m     10\u001b[39m \u001b[43m)\u001b[49m\n\u001b[32m     12\u001b[39m     \u001b[38;5;28;01mreturn\u001b[39;00m response.choices[\u001b[32m0\u001b[39m].message.content.split(\u001b[33m'\u001b[39m\u001b[38;5;130;01m\\n\u001b[39;00m\u001b[33m'\u001b[39m)\n",
      "\u001b[36mFile \u001b[39m\u001b[32m~/repo/email-search-ai/.venv/lib/python3.12/site-packages/openai/_utils/_utils.py:286\u001b[39m, in \u001b[36mrequired_args.<locals>.inner.<locals>.wrapper\u001b[39m\u001b[34m(*args, **kwargs)\u001b[39m\n\u001b[32m    284\u001b[39m             msg = \u001b[33mf\u001b[39m\u001b[33m\"\u001b[39m\u001b[33mMissing required argument: \u001b[39m\u001b[38;5;132;01m{\u001b[39;00mquote(missing[\u001b[32m0\u001b[39m])\u001b[38;5;132;01m}\u001b[39;00m\u001b[33m\"\u001b[39m\n\u001b[32m    285\u001b[39m     \u001b[38;5;28;01mraise\u001b[39;00m \u001b[38;5;167;01mTypeError\u001b[39;00m(msg)\n\u001b[32m--> \u001b[39m\u001b[32m286\u001b[39m \u001b[38;5;28;01mreturn\u001b[39;00m \u001b[43mfunc\u001b[49m\u001b[43m(\u001b[49m\u001b[43m*\u001b[49m\u001b[43margs\u001b[49m\u001b[43m,\u001b[49m\u001b[43m \u001b[49m\u001b[43m*\u001b[49m\u001b[43m*\u001b[49m\u001b[43mkwargs\u001b[49m\u001b[43m)\u001b[49m\n",
      "\u001b[36mFile \u001b[39m\u001b[32m~/repo/email-search-ai/.venv/lib/python3.12/site-packages/openai/resources/chat/completions/completions.py:1147\u001b[39m, in \u001b[36mCompletions.create\u001b[39m\u001b[34m(self, messages, model, audio, frequency_penalty, function_call, functions, logit_bias, logprobs, max_completion_tokens, max_tokens, metadata, modalities, n, parallel_tool_calls, prediction, presence_penalty, prompt_cache_key, reasoning_effort, response_format, safety_identifier, seed, service_tier, stop, store, stream, stream_options, temperature, tool_choice, tools, top_logprobs, top_p, user, verbosity, web_search_options, extra_headers, extra_query, extra_body, timeout)\u001b[39m\n\u001b[32m   1101\u001b[39m \u001b[38;5;129m@required_args\u001b[39m([\u001b[33m\"\u001b[39m\u001b[33mmessages\u001b[39m\u001b[33m\"\u001b[39m, \u001b[33m\"\u001b[39m\u001b[33mmodel\u001b[39m\u001b[33m\"\u001b[39m], [\u001b[33m\"\u001b[39m\u001b[33mmessages\u001b[39m\u001b[33m\"\u001b[39m, \u001b[33m\"\u001b[39m\u001b[33mmodel\u001b[39m\u001b[33m\"\u001b[39m, \u001b[33m\"\u001b[39m\u001b[33mstream\u001b[39m\u001b[33m\"\u001b[39m])\n\u001b[32m   1102\u001b[39m \u001b[38;5;28;01mdef\u001b[39;00m\u001b[38;5;250m \u001b[39m\u001b[34mcreate\u001b[39m(\n\u001b[32m   1103\u001b[39m     \u001b[38;5;28mself\u001b[39m,\n\u001b[32m   (...)\u001b[39m\u001b[32m   1144\u001b[39m     timeout: \u001b[38;5;28mfloat\u001b[39m | httpx.Timeout | \u001b[38;5;28;01mNone\u001b[39;00m | NotGiven = NOT_GIVEN,\n\u001b[32m   1145\u001b[39m ) -> ChatCompletion | Stream[ChatCompletionChunk]:\n\u001b[32m   1146\u001b[39m     validate_response_format(response_format)\n\u001b[32m-> \u001b[39m\u001b[32m1147\u001b[39m     \u001b[38;5;28;01mreturn\u001b[39;00m \u001b[38;5;28;43mself\u001b[39;49m\u001b[43m.\u001b[49m\u001b[43m_post\u001b[49m\u001b[43m(\u001b[49m\n\u001b[32m   1148\u001b[39m \u001b[43m        \u001b[49m\u001b[33;43m\"\u001b[39;49m\u001b[33;43m/chat/completions\u001b[39;49m\u001b[33;43m\"\u001b[39;49m\u001b[43m,\u001b[49m\n\u001b[32m   1149\u001b[39m \u001b[43m        \u001b[49m\u001b[43mbody\u001b[49m\u001b[43m=\u001b[49m\u001b[43mmaybe_transform\u001b[49m\u001b[43m(\u001b[49m\n\u001b[32m   1150\u001b[39m \u001b[43m            \u001b[49m\u001b[43m{\u001b[49m\n\u001b[32m   1151\u001b[39m \u001b[43m                \u001b[49m\u001b[33;43m\"\u001b[39;49m\u001b[33;43mmessages\u001b[39;49m\u001b[33;43m\"\u001b[39;49m\u001b[43m:\u001b[49m\u001b[43m \u001b[49m\u001b[43mmessages\u001b[49m\u001b[43m,\u001b[49m\n\u001b[32m   1152\u001b[39m \u001b[43m                \u001b[49m\u001b[33;43m\"\u001b[39;49m\u001b[33;43mmodel\u001b[39;49m\u001b[33;43m\"\u001b[39;49m\u001b[43m:\u001b[49m\u001b[43m \u001b[49m\u001b[43mmodel\u001b[49m\u001b[43m,\u001b[49m\n\u001b[32m   1153\u001b[39m \u001b[43m                \u001b[49m\u001b[33;43m\"\u001b[39;49m\u001b[33;43maudio\u001b[39;49m\u001b[33;43m\"\u001b[39;49m\u001b[43m:\u001b[49m\u001b[43m \u001b[49m\u001b[43maudio\u001b[49m\u001b[43m,\u001b[49m\n\u001b[32m   1154\u001b[39m \u001b[43m                \u001b[49m\u001b[33;43m\"\u001b[39;49m\u001b[33;43mfrequency_penalty\u001b[39;49m\u001b[33;43m\"\u001b[39;49m\u001b[43m:\u001b[49m\u001b[43m \u001b[49m\u001b[43mfrequency_penalty\u001b[49m\u001b[43m,\u001b[49m\n\u001b[32m   1155\u001b[39m \u001b[43m                \u001b[49m\u001b[33;43m\"\u001b[39;49m\u001b[33;43mfunction_call\u001b[39;49m\u001b[33;43m\"\u001b[39;49m\u001b[43m:\u001b[49m\u001b[43m \u001b[49m\u001b[43mfunction_call\u001b[49m\u001b[43m,\u001b[49m\n\u001b[32m   1156\u001b[39m \u001b[43m                \u001b[49m\u001b[33;43m\"\u001b[39;49m\u001b[33;43mfunctions\u001b[39;49m\u001b[33;43m\"\u001b[39;49m\u001b[43m:\u001b[49m\u001b[43m \u001b[49m\u001b[43mfunctions\u001b[49m\u001b[43m,\u001b[49m\n\u001b[32m   1157\u001b[39m \u001b[43m                \u001b[49m\u001b[33;43m\"\u001b[39;49m\u001b[33;43mlogit_bias\u001b[39;49m\u001b[33;43m\"\u001b[39;49m\u001b[43m:\u001b[49m\u001b[43m \u001b[49m\u001b[43mlogit_bias\u001b[49m\u001b[43m,\u001b[49m\n\u001b[32m   1158\u001b[39m \u001b[43m                \u001b[49m\u001b[33;43m\"\u001b[39;49m\u001b[33;43mlogprobs\u001b[39;49m\u001b[33;43m\"\u001b[39;49m\u001b[43m:\u001b[49m\u001b[43m \u001b[49m\u001b[43mlogprobs\u001b[49m\u001b[43m,\u001b[49m\n\u001b[32m   1159\u001b[39m \u001b[43m                \u001b[49m\u001b[33;43m\"\u001b[39;49m\u001b[33;43mmax_completion_tokens\u001b[39;49m\u001b[33;43m\"\u001b[39;49m\u001b[43m:\u001b[49m\u001b[43m \u001b[49m\u001b[43mmax_completion_tokens\u001b[49m\u001b[43m,\u001b[49m\n\u001b[32m   1160\u001b[39m \u001b[43m                \u001b[49m\u001b[33;43m\"\u001b[39;49m\u001b[33;43mmax_tokens\u001b[39;49m\u001b[33;43m\"\u001b[39;49m\u001b[43m:\u001b[49m\u001b[43m \u001b[49m\u001b[43mmax_tokens\u001b[49m\u001b[43m,\u001b[49m\n\u001b[32m   1161\u001b[39m \u001b[43m                \u001b[49m\u001b[33;43m\"\u001b[39;49m\u001b[33;43mmetadata\u001b[39;49m\u001b[33;43m\"\u001b[39;49m\u001b[43m:\u001b[49m\u001b[43m \u001b[49m\u001b[43mmetadata\u001b[49m\u001b[43m,\u001b[49m\n\u001b[32m   1162\u001b[39m \u001b[43m                \u001b[49m\u001b[33;43m\"\u001b[39;49m\u001b[33;43mmodalities\u001b[39;49m\u001b[33;43m\"\u001b[39;49m\u001b[43m:\u001b[49m\u001b[43m \u001b[49m\u001b[43mmodalities\u001b[49m\u001b[43m,\u001b[49m\n\u001b[32m   1163\u001b[39m \u001b[43m                \u001b[49m\u001b[33;43m\"\u001b[39;49m\u001b[33;43mn\u001b[39;49m\u001b[33;43m\"\u001b[39;49m\u001b[43m:\u001b[49m\u001b[43m \u001b[49m\u001b[43mn\u001b[49m\u001b[43m,\u001b[49m\n\u001b[32m   1164\u001b[39m \u001b[43m                \u001b[49m\u001b[33;43m\"\u001b[39;49m\u001b[33;43mparallel_tool_calls\u001b[39;49m\u001b[33;43m\"\u001b[39;49m\u001b[43m:\u001b[49m\u001b[43m \u001b[49m\u001b[43mparallel_tool_calls\u001b[49m\u001b[43m,\u001b[49m\n\u001b[32m   1165\u001b[39m \u001b[43m                \u001b[49m\u001b[33;43m\"\u001b[39;49m\u001b[33;43mprediction\u001b[39;49m\u001b[33;43m\"\u001b[39;49m\u001b[43m:\u001b[49m\u001b[43m \u001b[49m\u001b[43mprediction\u001b[49m\u001b[43m,\u001b[49m\n\u001b[32m   1166\u001b[39m \u001b[43m                \u001b[49m\u001b[33;43m\"\u001b[39;49m\u001b[33;43mpresence_penalty\u001b[39;49m\u001b[33;43m\"\u001b[39;49m\u001b[43m:\u001b[49m\u001b[43m \u001b[49m\u001b[43mpresence_penalty\u001b[49m\u001b[43m,\u001b[49m\n\u001b[32m   1167\u001b[39m \u001b[43m                \u001b[49m\u001b[33;43m\"\u001b[39;49m\u001b[33;43mprompt_cache_key\u001b[39;49m\u001b[33;43m\"\u001b[39;49m\u001b[43m:\u001b[49m\u001b[43m \u001b[49m\u001b[43mprompt_cache_key\u001b[49m\u001b[43m,\u001b[49m\n\u001b[32m   1168\u001b[39m \u001b[43m                \u001b[49m\u001b[33;43m\"\u001b[39;49m\u001b[33;43mreasoning_effort\u001b[39;49m\u001b[33;43m\"\u001b[39;49m\u001b[43m:\u001b[49m\u001b[43m \u001b[49m\u001b[43mreasoning_effort\u001b[49m\u001b[43m,\u001b[49m\n\u001b[32m   1169\u001b[39m \u001b[43m                \u001b[49m\u001b[33;43m\"\u001b[39;49m\u001b[33;43mresponse_format\u001b[39;49m\u001b[33;43m\"\u001b[39;49m\u001b[43m:\u001b[49m\u001b[43m \u001b[49m\u001b[43mresponse_format\u001b[49m\u001b[43m,\u001b[49m\n\u001b[32m   1170\u001b[39m \u001b[43m                \u001b[49m\u001b[33;43m\"\u001b[39;49m\u001b[33;43msafety_identifier\u001b[39;49m\u001b[33;43m\"\u001b[39;49m\u001b[43m:\u001b[49m\u001b[43m \u001b[49m\u001b[43msafety_identifier\u001b[49m\u001b[43m,\u001b[49m\n\u001b[32m   1171\u001b[39m \u001b[43m                \u001b[49m\u001b[33;43m\"\u001b[39;49m\u001b[33;43mseed\u001b[39;49m\u001b[33;43m\"\u001b[39;49m\u001b[43m:\u001b[49m\u001b[43m \u001b[49m\u001b[43mseed\u001b[49m\u001b[43m,\u001b[49m\n\u001b[32m   1172\u001b[39m \u001b[43m                \u001b[49m\u001b[33;43m\"\u001b[39;49m\u001b[33;43mservice_tier\u001b[39;49m\u001b[33;43m\"\u001b[39;49m\u001b[43m:\u001b[49m\u001b[43m \u001b[49m\u001b[43mservice_tier\u001b[49m\u001b[43m,\u001b[49m\n\u001b[32m   1173\u001b[39m \u001b[43m                \u001b[49m\u001b[33;43m\"\u001b[39;49m\u001b[33;43mstop\u001b[39;49m\u001b[33;43m\"\u001b[39;49m\u001b[43m:\u001b[49m\u001b[43m \u001b[49m\u001b[43mstop\u001b[49m\u001b[43m,\u001b[49m\n\u001b[32m   1174\u001b[39m \u001b[43m                \u001b[49m\u001b[33;43m\"\u001b[39;49m\u001b[33;43mstore\u001b[39;49m\u001b[33;43m\"\u001b[39;49m\u001b[43m:\u001b[49m\u001b[43m \u001b[49m\u001b[43mstore\u001b[49m\u001b[43m,\u001b[49m\n\u001b[32m   1175\u001b[39m \u001b[43m                \u001b[49m\u001b[33;43m\"\u001b[39;49m\u001b[33;43mstream\u001b[39;49m\u001b[33;43m\"\u001b[39;49m\u001b[43m:\u001b[49m\u001b[43m \u001b[49m\u001b[43mstream\u001b[49m\u001b[43m,\u001b[49m\n\u001b[32m   1176\u001b[39m \u001b[43m                \u001b[49m\u001b[33;43m\"\u001b[39;49m\u001b[33;43mstream_options\u001b[39;49m\u001b[33;43m\"\u001b[39;49m\u001b[43m:\u001b[49m\u001b[43m \u001b[49m\u001b[43mstream_options\u001b[49m\u001b[43m,\u001b[49m\n\u001b[32m   1177\u001b[39m \u001b[43m                \u001b[49m\u001b[33;43m\"\u001b[39;49m\u001b[33;43mtemperature\u001b[39;49m\u001b[33;43m\"\u001b[39;49m\u001b[43m:\u001b[49m\u001b[43m \u001b[49m\u001b[43mtemperature\u001b[49m\u001b[43m,\u001b[49m\n\u001b[32m   1178\u001b[39m \u001b[43m                \u001b[49m\u001b[33;43m\"\u001b[39;49m\u001b[33;43mtool_choice\u001b[39;49m\u001b[33;43m\"\u001b[39;49m\u001b[43m:\u001b[49m\u001b[43m \u001b[49m\u001b[43mtool_choice\u001b[49m\u001b[43m,\u001b[49m\n\u001b[32m   1179\u001b[39m \u001b[43m                \u001b[49m\u001b[33;43m\"\u001b[39;49m\u001b[33;43mtools\u001b[39;49m\u001b[33;43m\"\u001b[39;49m\u001b[43m:\u001b[49m\u001b[43m \u001b[49m\u001b[43mtools\u001b[49m\u001b[43m,\u001b[49m\n\u001b[32m   1180\u001b[39m \u001b[43m                \u001b[49m\u001b[33;43m\"\u001b[39;49m\u001b[33;43mtop_logprobs\u001b[39;49m\u001b[33;43m\"\u001b[39;49m\u001b[43m:\u001b[49m\u001b[43m \u001b[49m\u001b[43mtop_logprobs\u001b[49m\u001b[43m,\u001b[49m\n\u001b[32m   1181\u001b[39m \u001b[43m                \u001b[49m\u001b[33;43m\"\u001b[39;49m\u001b[33;43mtop_p\u001b[39;49m\u001b[33;43m\"\u001b[39;49m\u001b[43m:\u001b[49m\u001b[43m \u001b[49m\u001b[43mtop_p\u001b[49m\u001b[43m,\u001b[49m\n\u001b[32m   1182\u001b[39m \u001b[43m                \u001b[49m\u001b[33;43m\"\u001b[39;49m\u001b[33;43muser\u001b[39;49m\u001b[33;43m\"\u001b[39;49m\u001b[43m:\u001b[49m\u001b[43m \u001b[49m\u001b[43muser\u001b[49m\u001b[43m,\u001b[49m\n\u001b[32m   1183\u001b[39m \u001b[43m                \u001b[49m\u001b[33;43m\"\u001b[39;49m\u001b[33;43mverbosity\u001b[39;49m\u001b[33;43m\"\u001b[39;49m\u001b[43m:\u001b[49m\u001b[43m \u001b[49m\u001b[43mverbosity\u001b[49m\u001b[43m,\u001b[49m\n\u001b[32m   1184\u001b[39m \u001b[43m                \u001b[49m\u001b[33;43m\"\u001b[39;49m\u001b[33;43mweb_search_options\u001b[39;49m\u001b[33;43m\"\u001b[39;49m\u001b[43m:\u001b[49m\u001b[43m \u001b[49m\u001b[43mweb_search_options\u001b[49m\u001b[43m,\u001b[49m\n\u001b[32m   1185\u001b[39m \u001b[43m            \u001b[49m\u001b[43m}\u001b[49m\u001b[43m,\u001b[49m\n\u001b[32m   1186\u001b[39m \u001b[43m            \u001b[49m\u001b[43mcompletion_create_params\u001b[49m\u001b[43m.\u001b[49m\u001b[43mCompletionCreateParamsStreaming\u001b[49m\n\u001b[32m   1187\u001b[39m \u001b[43m            \u001b[49m\u001b[38;5;28;43;01mif\u001b[39;49;00m\u001b[43m \u001b[49m\u001b[43mstream\u001b[49m\n\u001b[32m   1188\u001b[39m \u001b[43m            \u001b[49m\u001b[38;5;28;43;01melse\u001b[39;49;00m\u001b[43m \u001b[49m\u001b[43mcompletion_create_params\u001b[49m\u001b[43m.\u001b[49m\u001b[43mCompletionCreateParamsNonStreaming\u001b[49m\u001b[43m,\u001b[49m\n\u001b[32m   1189\u001b[39m \u001b[43m        \u001b[49m\u001b[43m)\u001b[49m\u001b[43m,\u001b[49m\n\u001b[32m   1190\u001b[39m \u001b[43m        \u001b[49m\u001b[43moptions\u001b[49m\u001b[43m=\u001b[49m\u001b[43mmake_request_options\u001b[49m\u001b[43m(\u001b[49m\n\u001b[32m   1191\u001b[39m \u001b[43m            \u001b[49m\u001b[43mextra_headers\u001b[49m\u001b[43m=\u001b[49m\u001b[43mextra_headers\u001b[49m\u001b[43m,\u001b[49m\u001b[43m \u001b[49m\u001b[43mextra_query\u001b[49m\u001b[43m=\u001b[49m\u001b[43mextra_query\u001b[49m\u001b[43m,\u001b[49m\u001b[43m \u001b[49m\u001b[43mextra_body\u001b[49m\u001b[43m=\u001b[49m\u001b[43mextra_body\u001b[49m\u001b[43m,\u001b[49m\u001b[43m \u001b[49m\u001b[43mtimeout\u001b[49m\u001b[43m=\u001b[49m\u001b[43mtimeout\u001b[49m\n\u001b[32m   1192\u001b[39m \u001b[43m        \u001b[49m\u001b[43m)\u001b[49m\u001b[43m,\u001b[49m\n\u001b[32m   1193\u001b[39m \u001b[43m        \u001b[49m\u001b[43mcast_to\u001b[49m\u001b[43m=\u001b[49m\u001b[43mChatCompletion\u001b[49m\u001b[43m,\u001b[49m\n\u001b[32m   1194\u001b[39m \u001b[43m        \u001b[49m\u001b[43mstream\u001b[49m\u001b[43m=\u001b[49m\u001b[43mstream\u001b[49m\u001b[43m \u001b[49m\u001b[38;5;129;43;01mor\u001b[39;49;00m\u001b[43m \u001b[49m\u001b[38;5;28;43;01mFalse\u001b[39;49;00m\u001b[43m,\u001b[49m\n\u001b[32m   1195\u001b[39m \u001b[43m        \u001b[49m\u001b[43mstream_cls\u001b[49m\u001b[43m=\u001b[49m\u001b[43mStream\u001b[49m\u001b[43m[\u001b[49m\u001b[43mChatCompletionChunk\u001b[49m\u001b[43m]\u001b[49m\u001b[43m,\u001b[49m\n\u001b[32m   1196\u001b[39m \u001b[43m    \u001b[49m\u001b[43m)\u001b[49m\n",
      "\u001b[36mFile \u001b[39m\u001b[32m~/repo/email-search-ai/.venv/lib/python3.12/site-packages/openai/_base_client.py:1259\u001b[39m, in \u001b[36mSyncAPIClient.post\u001b[39m\u001b[34m(self, path, cast_to, body, options, files, stream, stream_cls)\u001b[39m\n\u001b[32m   1245\u001b[39m \u001b[38;5;28;01mdef\u001b[39;00m\u001b[38;5;250m \u001b[39m\u001b[34mpost\u001b[39m(\n\u001b[32m   1246\u001b[39m     \u001b[38;5;28mself\u001b[39m,\n\u001b[32m   1247\u001b[39m     path: \u001b[38;5;28mstr\u001b[39m,\n\u001b[32m   (...)\u001b[39m\u001b[32m   1254\u001b[39m     stream_cls: \u001b[38;5;28mtype\u001b[39m[_StreamT] | \u001b[38;5;28;01mNone\u001b[39;00m = \u001b[38;5;28;01mNone\u001b[39;00m,\n\u001b[32m   1255\u001b[39m ) -> ResponseT | _StreamT:\n\u001b[32m   1256\u001b[39m     opts = FinalRequestOptions.construct(\n\u001b[32m   1257\u001b[39m         method=\u001b[33m\"\u001b[39m\u001b[33mpost\u001b[39m\u001b[33m\"\u001b[39m, url=path, json_data=body, files=to_httpx_files(files), **options\n\u001b[32m   1258\u001b[39m     )\n\u001b[32m-> \u001b[39m\u001b[32m1259\u001b[39m     \u001b[38;5;28;01mreturn\u001b[39;00m cast(ResponseT, \u001b[38;5;28;43mself\u001b[39;49m\u001b[43m.\u001b[49m\u001b[43mrequest\u001b[49m\u001b[43m(\u001b[49m\u001b[43mcast_to\u001b[49m\u001b[43m,\u001b[49m\u001b[43m \u001b[49m\u001b[43mopts\u001b[49m\u001b[43m,\u001b[49m\u001b[43m \u001b[49m\u001b[43mstream\u001b[49m\u001b[43m=\u001b[49m\u001b[43mstream\u001b[49m\u001b[43m,\u001b[49m\u001b[43m \u001b[49m\u001b[43mstream_cls\u001b[49m\u001b[43m=\u001b[49m\u001b[43mstream_cls\u001b[49m\u001b[43m)\u001b[49m)\n",
      "\u001b[36mFile \u001b[39m\u001b[32m~/repo/email-search-ai/.venv/lib/python3.12/site-packages/openai/_base_client.py:1047\u001b[39m, in \u001b[36mSyncAPIClient.request\u001b[39m\u001b[34m(self, cast_to, options, stream, stream_cls)\u001b[39m\n\u001b[32m   1044\u001b[39m             err.response.read()\n\u001b[32m   1046\u001b[39m         log.debug(\u001b[33m\"\u001b[39m\u001b[33mRe-raising status error\u001b[39m\u001b[33m\"\u001b[39m)\n\u001b[32m-> \u001b[39m\u001b[32m1047\u001b[39m         \u001b[38;5;28;01mraise\u001b[39;00m \u001b[38;5;28mself\u001b[39m._make_status_error_from_response(err.response) \u001b[38;5;28;01mfrom\u001b[39;00m\u001b[38;5;250m \u001b[39m\u001b[38;5;28;01mNone\u001b[39;00m\n\u001b[32m   1049\u001b[39m     \u001b[38;5;28;01mbreak\u001b[39;00m\n\u001b[32m   1051\u001b[39m \u001b[38;5;28;01massert\u001b[39;00m response \u001b[38;5;129;01mis\u001b[39;00m \u001b[38;5;129;01mnot\u001b[39;00m \u001b[38;5;28;01mNone\u001b[39;00m, \u001b[33m\"\u001b[39m\u001b[33mcould not resolve response (should never happen)\u001b[39m\u001b[33m\"\u001b[39m\n",
      "\u001b[31mBadRequestError\u001b[39m: Error code: 400 - {'error': {'message': \"This model's maximum context length is 8192 tokens. However, your messages resulted in 8859 tokens. Please reduce the length of the messages.\", 'type': 'invalid_request_error', 'param': 'messages', 'code': 'context_length_exceeded'}}"
     ]
    }
   ],
   "source": [
    "# Add a generated summary as a column in email_thread_summary\n",
    "\n",
    "email_thread_summaries['generated_summary'] = email_thread_summaries['thread_id'].apply(lambda x: generate_response(email_thread_details[email_thread_details['thread_id'] == x]['body'].tolist()) if x in email_thread_details['thread_id'].values else [])"
   ]
  },
  {
   "cell_type": "code",
   "execution_count": 6,
   "id": "46f10ff2",
   "metadata": {},
   "outputs": [
    {
     "data": {
      "text/html": [
       "<div>\n",
       "<style scoped>\n",
       "    .dataframe tbody tr th:only-of-type {\n",
       "        vertical-align: middle;\n",
       "    }\n",
       "\n",
       "    .dataframe tbody tr th {\n",
       "        vertical-align: top;\n",
       "    }\n",
       "\n",
       "    .dataframe thead th {\n",
       "        text-align: right;\n",
       "    }\n",
       "</style>\n",
       "<table border=\"1\" class=\"dataframe\">\n",
       "  <thead>\n",
       "    <tr style=\"text-align: right;\">\n",
       "      <th></th>\n",
       "      <th>thread_id</th>\n",
       "      <th>summary</th>\n",
       "      <th>text_length</th>\n",
       "      <th>num_emails</th>\n",
       "    </tr>\n",
       "  </thead>\n",
       "  <tbody>\n",
       "    <tr>\n",
       "      <th>0</th>\n",
       "      <td>1</td>\n",
       "      <td>The email thread discusses the Master Terminat...</td>\n",
       "      <td>74</td>\n",
       "      <td>5</td>\n",
       "    </tr>\n",
       "    <tr>\n",
       "      <th>1</th>\n",
       "      <td>2</td>\n",
       "      <td>A lunch meeting has been scheduled for May 5th...</td>\n",
       "      <td>74</td>\n",
       "      <td>7</td>\n",
       "    </tr>\n",
       "    <tr>\n",
       "      <th>2</th>\n",
       "      <td>3</td>\n",
       "      <td>Ben is updating a friend on his progress with ...</td>\n",
       "      <td>55</td>\n",
       "      <td>6</td>\n",
       "    </tr>\n",
       "    <tr>\n",
       "      <th>3</th>\n",
       "      <td>4</td>\n",
       "      <td>The recipient of the email thread initially ex...</td>\n",
       "      <td>63</td>\n",
       "      <td>4</td>\n",
       "    </tr>\n",
       "    <tr>\n",
       "      <th>4</th>\n",
       "      <td>5</td>\n",
       "      <td>The email thread discusses the long form confi...</td>\n",
       "      <td>110</td>\n",
       "      <td>8</td>\n",
       "    </tr>\n",
       "  </tbody>\n",
       "</table>\n",
       "</div>"
      ],
      "text/plain": [
       "   thread_id                                            summary  text_length  \\\n",
       "0          1  The email thread discusses the Master Terminat...           74   \n",
       "1          2  A lunch meeting has been scheduled for May 5th...           74   \n",
       "2          3  Ben is updating a friend on his progress with ...           55   \n",
       "3          4  The recipient of the email thread initially ex...           63   \n",
       "4          5  The email thread discusses the long form confi...          110   \n",
       "\n",
       "   num_emails  \n",
       "0           5  \n",
       "1           7  \n",
       "2           6  \n",
       "3           4  \n",
       "4           8  "
      ]
     },
     "execution_count": 6,
     "metadata": {},
     "output_type": "execute_result"
    }
   ],
   "source": [
    "email_thread_summaries.head()\n"
   ]
  },
  {
   "cell_type": "code",
   "execution_count": 7,
   "id": "f722389e",
   "metadata": {},
   "outputs": [
    {
     "data": {
      "text/plain": [
       "<bound method DataFrame.info of       thread_id                                            summary  \\\n",
       "0             1  The email thread discusses the Master Terminat...   \n",
       "1             2  A lunch meeting has been scheduled for May 5th...   \n",
       "2             3  Ben is updating a friend on his progress with ...   \n",
       "3             4  The recipient of the email thread initially ex...   \n",
       "4             5  The email thread discusses the long form confi...   \n",
       "...         ...                                                ...   \n",
       "4162       4163  Peter Thompson has sent a memo to Kay Mann and...   \n",
       "4163       4164  The email thread revolves around the sharing a...   \n",
       "4164       4165  Susan asks Emily about her plans for the weeke...   \n",
       "4165       4166  Several employees will be on vacation during d...   \n",
       "4166       4167  Mat has sent an email to Amanda requesting her...   \n",
       "\n",
       "      text_length  num_emails  \n",
       "0              74           5  \n",
       "1              74           7  \n",
       "2              55           6  \n",
       "3              63           4  \n",
       "4             110           8  \n",
       "...           ...         ...  \n",
       "4162           50           4  \n",
       "4163           88          10  \n",
       "4164           75           4  \n",
       "4165           76           5  \n",
       "4166           94           4  \n",
       "\n",
       "[4167 rows x 4 columns]>"
      ]
     },
     "execution_count": 7,
     "metadata": {},
     "output_type": "execute_result"
    }
   ],
   "source": [
    "email_thread_summaries.info"
   ]
  },
  {
   "cell_type": "code",
   "execution_count": 8,
   "id": "f09f0e62",
   "metadata": {},
   "outputs": [],
   "source": [
    "# We will create 2 tables in chroma db\n",
    "# First match query with email_thread_summaries\n",
    "# Then find top k documents from 2nd table in email_thread_details\n",
    "\n",
    "\n"
   ]
  },
  {
   "cell_type": "code",
   "execution_count": 9,
   "id": "b0ffb56b",
   "metadata": {},
   "outputs": [],
   "source": [
    "chroma_client = chromadb.Client()"
   ]
  },
  {
   "cell_type": "code",
   "execution_count": 10,
   "id": "2a7ad218",
   "metadata": {},
   "outputs": [],
   "source": [
    "from chromadb.utils.embedding_functions import OpenAIEmbeddingFunction"
   ]
  },
  {
   "cell_type": "code",
   "execution_count": 11,
   "id": "1e8375e7",
   "metadata": {},
   "outputs": [],
   "source": [
    "chroma_data_path = './chroma_data'"
   ]
  },
  {
   "cell_type": "code",
   "execution_count": 12,
   "id": "549fd258",
   "metadata": {},
   "outputs": [],
   "source": [
    "import chromadb"
   ]
  },
  {
   "cell_type": "code",
   "execution_count": 13,
   "id": "c9489264",
   "metadata": {},
   "outputs": [],
   "source": [
    "# Call PersistentClient()\n",
    "\n",
    "client = chromadb.PersistentClient(chroma_data_path)\n"
   ]
  },
  {
   "cell_type": "code",
   "execution_count": null,
   "id": "b1c4a07a",
   "metadata": {},
   "outputs": [
    {
     "ename": "NameError",
     "evalue": "name 'loadenv' is not defined",
     "output_type": "error",
     "traceback": [
      "\u001b[31m---------------------------------------------------------------------------\u001b[39m",
      "\u001b[31mNameError\u001b[39m                                 Traceback (most recent call last)",
      "\u001b[36mCell\u001b[39m\u001b[36m \u001b[39m\u001b[32mIn[60]\u001b[39m\u001b[32m, line 2\u001b[39m\n\u001b[32m      1\u001b[39m \u001b[38;5;66;03m# Set up the embedding function using the OpenAI embedding model\u001b[39;00m\n\u001b[32m----> \u001b[39m\u001b[32m2\u001b[39m \u001b[43mloadenv\u001b[49m()\n\u001b[32m      3\u001b[39m openai.api_key = os.getenv(\u001b[33m\"\u001b[39m\u001b[33mOPENAI_API_KEY\u001b[39m\u001b[33m\"\u001b[39m)\n\u001b[32m      4\u001b[39m model = \u001b[33m\"\u001b[39m\u001b[33mtext-embedding-ada-002\u001b[39m\u001b[33m\"\u001b[39m\n",
      "\u001b[31mNameError\u001b[39m: name 'loadenv' is not defined"
     ]
    }
   ],
   "source": [
    "# Set up the embedding function using the OpenAI embedding model\n",
    "\n",
    "load_dotenv()\n",
    "openai.api_key = os.getenv(\"OPENAI_API_KEY\")\n",
    "model = \"text-embedding-ada-002\"\n",
    "embedding_function = OpenAIEmbeddingFunction(api_key=openai.api_key, model_name=model)"
   ]
  },
  {
   "cell_type": "code",
   "execution_count": 15,
   "id": "4f0466be",
   "metadata": {},
   "outputs": [],
   "source": [
    "# Initialise a collection in chroma and pass the embedding_function to it so that it used OpenAI embeddings to embed the documents\n",
    "\n",
    "email_summaries_collection = client.get_or_create_collection(name='Email_Summaries', embedding_function=embedding_function)"
   ]
  },
  {
   "cell_type": "code",
   "execution_count": 16,
   "id": "2e0ca698",
   "metadata": {},
   "outputs": [],
   "source": [
    "# Batch the data to avoid exceeding the token limit per request\n",
    "batch_size = 100  # You can adjust this value if needed\n",
    "\n",
    "summaries = email_thread_summaries['summary'].tolist()\n",
    "metadatas = email_thread_summaries[['thread_id', 'num_emails', 'text_length']].to_dict(orient='records')\n",
    "ids = [str(i) for i in range(len(email_thread_summaries))]\n",
    "\n",
    "for start_idx in range(0, len(summaries), batch_size):\n",
    "    end_idx = start_idx + batch_size\n",
    "    email_summaries_collection.add(\n",
    "        documents=summaries[start_idx:end_idx],\n",
    "        metadatas=metadatas[start_idx:end_idx],\n",
    "        ids=ids[start_idx:end_idx],\n",
    "    )"
   ]
  },
  {
   "cell_type": "code",
   "execution_count": 17,
   "id": "2cf9843a",
   "metadata": {},
   "outputs": [],
   "source": [
    "email_details_collection = client.get_or_create_collection(name='Email_Details', embedding_function=embedding_function)\n"
   ]
  },
  {
   "cell_type": "code",
   "execution_count": 24,
   "id": "7f46f13d",
   "metadata": {},
   "outputs": [],
   "source": [
    "# Batch the data to avoid exceeding the token limit per request\n",
    "details_batch_size = 100  # You can adjust this value if needed\n",
    "\n",
    "details_documents = email_thread_details['body'].tolist()\n",
    "details_metadatas = email_thread_details[['thread_id', 'subject', 'from', 'to', 'timestamp']].to_dict(orient='records')\n",
    "details_ids = [str(i) for i in range(len(email_thread_details))]\n",
    "\n",
    "# Estimate tokens using tiktoken\n",
    "encoding = tiktoken.encoding_for_model(model)\n",
    "max_tokens = 8192\n",
    "\n",
    "def count_tokens(text):\n",
    "    return len(encoding.encode(text))\n",
    "\n",
    "current_batch_docs = []\n",
    "current_batch_metas = []\n",
    "current_batch_ids = []\n",
    "current_tokens = 0\n",
    "\n",
    "for doc, meta, doc_id in zip(details_documents, details_metadatas, details_ids):\n",
    "    doc_tokens = count_tokens(doc)\n",
    "    # Skip documents that exceed the model's max token limit\n",
    "    if doc_tokens > max_tokens:\n",
    "        continue\n",
    "    # If adding this document exceeds the token limit, flush the batch\n",
    "    if current_tokens + doc_tokens > max_tokens and current_batch_docs:\n",
    "        email_details_collection.add(\n",
    "            documents=current_batch_docs,\n",
    "            metadatas=current_batch_metas,\n",
    "            ids=current_batch_ids,\n",
    "        )\n",
    "        current_batch_docs = []\n",
    "        current_batch_metas = []\n",
    "        current_batch_ids = []\n",
    "        current_tokens = 0\n",
    "    current_batch_docs.append(doc)\n",
    "    current_batch_metas.append(meta)\n",
    "    current_batch_ids.append(doc_id)\n",
    "    current_tokens += doc_tokens\n",
    "\n",
    "# Add any remaining documents in the last batch\n",
    "if current_batch_docs:\n",
    "    email_details_collection.add(\n",
    "        documents=current_batch_docs,\n",
    "        metadatas=current_batch_metas,\n",
    "        ids=current_batch_ids,\n",
    "    )\n"
   ]
  },
  {
   "cell_type": "code",
   "execution_count": 25,
   "id": "435489cc",
   "metadata": {},
   "outputs": [
    {
     "data": {
      "text/plain": [
       "{'ids': ['0', '1', '2', '3', '4', '5', '6', '7', '8', '9'],\n",
       " 'embeddings': array([[-0.00499778, -0.00385044, -0.01661965, ..., -0.01360464,\n",
       "         -0.01789694, -0.03531861],\n",
       "        [-0.01091692,  0.00972126, -0.00879295, ..., -0.01810575,\n",
       "         -0.02908208, -0.03181502],\n",
       "        [-0.01916373,  0.00233976, -0.02327538, ..., -0.00999878,\n",
       "         -0.02973038, -0.01786986],\n",
       "        ...,\n",
       "        [-0.0215488 ,  0.00217057,  0.01241323, ..., -0.01609535,\n",
       "         -0.00323058, -0.02147907],\n",
       "        [-0.01279095,  0.00497761,  0.00409941, ...,  0.00787703,\n",
       "         -0.02673496, -0.00519549],\n",
       "        [-0.02217144, -0.0146973 , -0.00014849, ..., -0.01142736,\n",
       "         -0.00527792, -0.02707984]], shape=(10, 1536)),\n",
       " 'documents': ['\\n\\n -----Original Message-----\\nFrom: =09Theriot, Kim S. =20\\nSent:=09Tuesday, January 29, 2002 1:23 PM\\nTo:=09Richardson, Stacey; Anderson, Diane; Gossett, Jeffrey C.; White, Stac=\\ney W.; Murphy, Melissa; Hall, D. Todd; Sweeney, Kevin\\nCc:=09Aucoin, Evelyn; Baxter, Bryce; Wynne, Rita\\nSubject:=09FW: Master Termination Log\\n\\n\\n\\n -----Original Message-----\\nFrom: =09Panus, Stephanie =20\\nSent:=09Tuesday, January 29, 2002 11:39 AM\\nTo:=09Adams, Laurel; Alonso, Tom; Aronowitz, Alan; Bailey, Susan; Balfour-F=\\nlanagan, Cyndie; Baughman, Edward; Belden, Tim; Bishop, Serena; Brackett, D=\\nebbie R.; Bradford, William S.; Browning, Mary Nell; Bruce, James; Bruce, M=\\nichelle; Bruce, Robert; Buerkle, Jim; Calger, Christopher F.; Carrington, C=\\nlara; Considine, Keith; Cordova, Karen A.; Crandall, Sean; Cutsforth, Diane=\\n; Diamond, Russell; Dunton, Heather; Edison, Susan; Elafandi, Mo; Fischer, =\\nMark; Flores, Nony; Fondren, Mark; Gorny, Vladimir; Gorte, David; Gresham, =\\nWayne; Hagelmann, Bjorn; Hall, Steve C. (Legal); Harkness, Cynthia; Hendry,=\\n Brent; Johnston, Greg; Keohane, Peter; Lindeman, Cheryl; Little, Kelli; Ma=\\nllory, Chris; Mann, Kay; Mcginnis, Stephanie; McGrory, Robert; McMichael Jr=\\n., Ed; Miller, Don (Asset Mktg); Moore, Janet H.; Moran, Tom; Murphy, Harla=\\nn; Murray, Julia; Nemec, Gerald; Ogden, Mary; Otto, Randy; Page, Jonalan; P=\\nostlethwaite, John; Prejean, Frank; Presto, Kevin M.; Puchot, Paul; Rasmuss=\\nen, Dale; Richter, Brad; Richter, Jeff; Robison, Michael A.; Rohauer, Tanya=\\n; Rosman, Stewart; Runswick, Stacy; Sacks, Edward; Scholtes, Diana; Shackle=\\nton, Sara; Simons, Paul; Swinney, John; Thapar, Raj; Theriot, Kim S.; Thoma=\\ns, Jake; Thome, Stephen; Tricoli, Carl; Van Hooser, Steve; Wente, Laura; Wi=\\nlson, Shona; Winfree, O\\'Neal D.; Woodland, Andrea; Yoder, Christian\\nSubject:=09Master Termination Log\\n\\nAttached is the Daily Termination List for January 25 as well as the Master=\\n Termination Log, which incorporates all terminations received through Janu=\\nary 25.\\n\\n =20\\n\\nThe following were previously on the Master Termination Log and have now be=\\nen marked as \"Y\" for a valid termination:\\n\\nAtlantic Coast Fibers, Inc.=09=09=09ENA=09=09pulp/paper transactions\\nCNC-Containers Corporation=09=09=09EPMI=09=09master power agreement\\nPublic Utility District No. 1 of Chelan County=09EPMI=09=09deal no. 757497.=\\n01\\nConnect Energy Services, Inc.=09=09=09ENA=09=09liquids agreement\\nNGL Supply, Inc. (including Premier=09=09ENA/EGLI=09physical & financial tr=\\nansactions referenced\\nEnergy Partners, a division of NGL Supply, Inc.)\\nPlains Marketing, L.P.=09=09=09=09ERAC=09=09deal no. QG4563.1\\nPlains Marketing, L.P.=09=09=09=09ERAC=09=09deal no. QG4482.2\\n\\nStephanie Panus\\nEnron Wholesale Services\\nph:  713.345.3249\\nfax:  713.646.3490',\n",
       "  '\\n\\n -----Original Message-----\\nFrom: =09Panus, Stephanie =20\\nSent:=09Thursday, January 31, 2002 12:08 PM\\nTo:=09Adams, Laurel; Albrecht, Kristin; Alonso, Tom; Aronowitz, Alan; Baile=\\ny, Susan; Balfour-Flanagan, Cyndie; Baughman, Edward; Belden, Tim; Bishop, =\\nSerena; Boyd, Samantha; Brackett, Debbie R.; Bradford, William S.; Browning=\\n, Mary Nell; Bruce, James; Bruce, Michelle; Bruce, Robert; Buerkle, Jim; Ca=\\nlger, Christopher F.; Carrington, Clara; Considine, Keith; Cordova, Karen A=\\n.; Crandall, Sean; Cutsforth, Diane; Diamond, Russell; Dunton, Heather; Edi=\\nson, Susan; Elafandi, Mo; Fischer, Mark; Flores, Nony; Fondren, Mark; Gorny=\\n, Vladimir; Gorte, David; Gresham, Wayne; Hagelmann, Bjorn; Hall, Steve C. =\\n(Legal); Harkness, Cynthia; Hendry, Brent; Johnston, Greg; Keohane, Peter; =\\nLindeman, Cheryl; Mallory, Chris; Mann, Kay; Mcginnis, Stephanie; McGrory, =\\nRobert; McMichael Jr., Ed; Miller, Don (Asset Mktg); Moore, Janet H.; Moran=\\n, Tom; Murphy, Harlan; Murray, Julia; Nemec, Gerald; Ogden, Mary; Page, Jon=\\nalan; Postlethwaite, John; Prejean, Frank; Presto, Kevin M.; Puchot, Paul; =\\nRasmussen, Dale; Richardson, Stacey; Richter, Brad; Richter, Jeff; Robison,=\\n Michael A.; Rohauer, Tanya; Rosman, Stewart; Sacks, Edward; Scholtes, Dian=\\na; Sevitz, Robert; Shackleton, Sara; Simons, Paul; Swinney, John; Thapar, R=\\naj; Theriot, Kim S.; Thomas, Jake; Thome, Stephen; Tricoli, Carl; Van Hoose=\\nr, Steve; Wente, Laura; Wilson, Shona; Winfree, O\\'Neal D.; Woodland, Andrea=\\n; Yoder, Christian\\nSubject:=09Master Termination Log\\n\\nAttached are the Daily Lists for January 29 and January 30 as well as the M=\\naster Termination Log, which incorporates all terminations received through=\\n January 30.  Also, prepetition mutual terminations have been added to this=\\n list.  They are identified under \"Nature of Default\" as \"mutual terminatio=\\nn\".\\n\\n  =20\\n\\nStephanie Panus\\nEnron Wholesale Services\\nph:  713.345.3249\\nfax:  713.646.3490',\n",
       "  \"Note to Stephanie Panus....\\n\\nStephanie...please remove my name as well as Melissa Murphy's from the dist=\\nribution list below.\\n\\nPlease add the following:\\n\\nTodd D. Hall\\nKevin Sweeney\\nRita Wynne\\nRebecca Grace\\nRhonda Robinson\\nKerri Thomspon\\nKristin Albrecht\\nTom Chapman\\n\\n\\nThanks!\\n\\nKim Theriot\\n\\n -----Original Message-----\\nFrom: =09Panus, Stephanie =20\\nSent:=09Tuesday, February 05, 2002 8:18 AM\\nTo:=09Adams, Laurel; Albrecht, Kristin; Alonso, Tom; Aronowitz, Alan; Baile=\\ny, Susan; Balfour-Flanagan, Cyndie; Baughman, Edward; Belden, Tim; Bishop, =\\nSerena; Boyd, Samantha; Brackett, Debbie R.; Bradford, William S.; Browning=\\n, Mary Nell; Bruce, James; Bruce, Michelle; Bruce, Robert; Buerkle, Jim; Ca=\\nlger, Christopher F.; Carrington, Clara; Chilkina, Elena; Considine, Keith;=\\n Cordova, Karen A.; Crandall, Sean; Cutsforth, Diane; Diamond, Russell; Dun=\\nton, Heather; Edison, Susan; Elafandi, Mo; Fischer, Mark; Flores, Nony; Fon=\\ndren, Mark; Gorny, Vladimir; Gorte, David; Gresham, Wayne; Hagelmann, Bjorn=\\n; Hall, Steve C. (Legal); Harkness, Cynthia; Hendry, Brent; Johnston, Greg;=\\n Keohane, Peter; Lindeman, Cheryl; Mallory, Chris; Mann, Kay; Mcginnis, Ste=\\nphanie; McGrory, Robert; McMichael Jr., Ed; Miller, Don (Asset Mktg); Moore=\\n, Janet H.; Moran, Tom; Murphy, Harlan; Murray, Julia; Nemec, Gerald; Ogden=\\n, Mary; Page, Jonalan; Postlethwaite, John; Prejean, Frank; Presto, Kevin M=\\n.; Puchot, Paul; Rasmussen, Dale; Richardson, Stacey; Richter, Brad; Richte=\\nr, Jeff; Robison, Michael A.; Rohauer, Tanya; Rosman, Stewart; Sacks, Edwar=\\nd; Scholtes, Diana; Sevitz, Robert; Shackleton, Sara; Simons, Paul; Swinney=\\n, John; Thapar, Raj; Theriot, Kim S.; Thomas, Jake; Thome, Stephen; Tricoli=\\n, Carl; Van Hooser, Steve; Wente, Laura; Wilson, Shona; Winfree, O'Neal D.;=\\n Woodland, Andrea; Yoder, Christian\\nSubject:=09Master Termination Log\\n\\nAttached is the Daily List for January 31 as well as the Master Termination=\\n Log, which incorporates all terminations received through January 31.\\n\\n =20\\n\\nStephanie Panus\\nEnron Wholesale Services\\nph:  713.345.3249\\nfax:  713.646.3490\",\n",
       "  \"\\n\\n -----Original Message-----\\nFrom: =09Panus, Stephanie =20\\nSent:=09Tuesday, February 05, 2002 4:59 PM\\nTo:=09Adams, Laurel; Albrecht, Kristin; Alonso, Tom; Aronowitz, Alan; Baile=\\ny, Susan; Balfour-Flanagan, Cyndie; Baughman, Edward; Belden, Tim; Bishop, =\\nSerena; Boyd, Samantha; Brackett, Debbie R.; Bradford, William S.; Browning=\\n, Mary Nell; Bruce, James; Bruce, Michelle; Bruce, Robert; Buerkle, Jim; Ca=\\nlger, Christopher F.; Carrington, Clara; Chilkina, Elena; Considine, Keith;=\\n Cordova, Karen A.; Crandall, Sean; Cutsforth, Diane; Diamond, Russell; Dun=\\nton, Heather; Edison, Susan; Elafandi, Mo; Fischer, Mark; Flores, Nony; Fon=\\ndren, Mark; Glover, Sheila; Gorny, Vladimir; Gorte, David; Gresham, Wayne; =\\nHagelmann, Bjorn; Hall, Steve C. (Legal); Harkness, Cynthia; Hendry, Brent;=\\n Johnston, Greg; Keohane, Peter; Lindeman, Cheryl; Mallory, Chris; Mann, Ka=\\ny; Mcginnis, Stephanie; McGrory, Robert; McMichael Jr., Ed; Miller, Don (As=\\nset Mktg); Moore, Janet H.; Moran, Tom; Murphy, Harlan; Murray, Julia; Neme=\\nc, Gerald; Ogden, Mary; Page, Jonalan; Postlethwaite, John; Prejean, Frank;=\\n Presto, Kevin M.; Puchot, Paul; Rasmussen, Dale; Richardson, Stacey; Richt=\\ner, Brad; Richter, Jeff; Robison, Michael A.; Rohauer, Tanya; Rosman, Stewa=\\nrt; Sacks, Edward; Scholtes, Diana; Sevitz, Robert; Shackleton, Sara; Simon=\\ns, Paul; Swinney, John; Thapar, Raj; Theriot, Kim S.; Thomas, Jake; Thome, =\\nStephen; Tricoli, Carl; Van Hooser, Steve; Wente, Laura; Wilson, Shona; Win=\\nfree, O'Neal D.; Woodland, Andrea; Yoder, Christian\\nSubject:=09Master Termination Log\\n\\nAttached is the Daily List for February 4 as well as the Master Termination=\\n Log, which incorporates all termination received through February 4 (with =\\nthe exception of February 1, which is under legal review and contains all f=\\ninancial transactions).\\n\\n =20\\n\\nStephanie Panus\\nEnron Wholesale Services\\nph:  713.345.3249\\nfax:  713.646.3490\",\n",
       "  '\\n\\n -----Original Message-----\\nFrom: =09McMichael Jr., Ed =20\\nSent:=09Tuesday, May 28, 2002 8:15 AM\\nTo:=09Lagrasta, Fred; Kelly, Katherine L.; Versen, Victoria\\nSubject:=09FW: Master Termination Log\\n\\nPlease look into the CNG LDC (Hope Gas) termination 12/1 and the $66 MM set=\\ntlement offer that is listed on the Letter Log below.  Let me know what tha=\\nt is after you figure it out.  If you have any questions, please ask.\\nEd  =20\\n\\n -----Original Message-----\\nFrom: =09Panus, Stephanie =20\\nSent:=09Friday, May 24, 2002 3:49 PM\\nTo:=09Adams, Laurel; Alon, Heather; Apollo, Beth; Arnold, Matthew; Aronowit=\\nz, Alan; Bailey, Susan; Balfour-Flanagan, Cyndie; Barbe, Robin; Baughman, E=\\ndward; Berryman, Kyle; Bolt, Laurel; Botello, Rose; Boudreau, Kara; Brennig=\\n, Tammy; Bridges, Michael; Bruck, Sarah; Camarillo, Juan; Coleman, David; C=\\nomeaux, Clinton; Concannon, Ruth; Cordova, Karen A.; Couch, Greg; Danaher, =\\nPatrick; Darmitzel, Paul; Del vecchio, Peter; Despres, Dan; Dicarlo, Louis;=\\n Edison, Susan; Elafandi, Mo; Fay, Ashley; Flores, Nony; Fowler, Kulvinder;=\\n Garza, Maria; Germany, Chris; Gonzalez, Victor; Gorte, David; Grace, Rebec=\\nca M.; Guillen, Andrea R.; Hagelmann, Bjorn; Haralson, Nancy L; Harkness, C=\\nynthia; Herrera, Olga; Heuertz, Kelly; Hoang, Charlie; Johnson, Luchas; Kel=\\nler, James E.; Lagrasta, Fred; Leuschen, Sam; Lindeman, Cheryl; Lowry, Donn=\\na; Mann, Kay; Matheson, A.k.; Mausser, Gregory A.; McClure, Zakiyyah; McMic=\\nhael Jr., Ed; Miller, Don (Asset Mktg); Moore, Janet H.; Moscoso, Michael E=\\n.; Muench, Gayle W.; Murphy, Harlan; Murray, Julia; Nelson, Michelle; Polsk=\\ny, Phil; Prejean, Frank; Puchot, Paul; Richard, Robert; Richardson, Stacey;=\\n Roberson, Weezie ; Robison, Michael A.; Sacchi, Martin; Sayre, Frank; Sevi=\\ntz, Robert; Shackleton, Sara; Sharma, Shifali; Shivers, Lynn; Shoup, Cynthi=\\na; Smida, Ed; Stai, Aaron ; Sweeney, Kevin; Thapar, Raj; Thibaut, Dan; Tric=\\noli, Carl; Versen, Victoria; Ward, Charles; Wilson, Shona; Wolgel, Fred\\nSubject:=09Master Termination Log\\n\\nAttached is the Daily List for May 24, 2002 as well as the Master Terminati=\\non Log, which incorporates all terminations received through May 24.\\n\\n =20\\n\\nStephanie Panus\\nEnron Wholesale Services\\nph:  713.345.3249\\nfax:  713.646.3490',\n",
       "  \"I'll be there...\",\n",
       "  'I will attend.',\n",
       "  \"Suzanne:\\nHere is the complete list of credit folks.  Please send an e-mail to each of \\nthem concerning the 5th.  Please include the description that I have bolded.  \\nIn our group, you don't need to include Marie or Shari. Thanks.\\n\\nCarol\\n---------------------- Forwarded by Carol St Clair/HOU/ECT on 04/18/2000 \\n11:52 AM ---------------------------\\n   \\n\\n\\nFrom:  John Suttle                                                            \\n 04/18/2000 11:47 AM\\t\\n\\t\\n\\t\\n\\t                           \\n\\t\\n\\nTo: Carol St Clair/HOU/ECT@ECT\\ncc:  \\nSubject: Re: Credit Group Lunch  \\n\\nCarol,\\n\\nThree more have recently joined our group:\\nEd Sacks\\nBrad Schneider\\nWendy LeBrocq\\n\\nJS\\n\\n\\n\\nCarol St Clair\\n04/18/2000 11:43 AM\\nTo: John Suttle/HOU/ECT@ECT\\ncc:  \\nSubject: Credit Group Lunch\\n\\nJohn:\\nSara and I would like to hold another lunch with your group on Friday, May \\n5th to go through in detail how the ISDA and CSA Masters and Schedules work.  \\nCould you please take a look at this list and let me know of any additions or \\ndeletions?  Thanks.\\n\\nCarol\\n\\nBill Bradford\\nDebbie Brackett\\nTanya Rohauer\\nRod Nelson\\nRussell Diamond\\nVeronica Espinoza\\nTracy Ngo\\nBrant Reves\\nKevin Radous\\nTom Moran\\nChristopher Smith\\nLesli Campbell\\nCathy Tudon\\nNidia Martinez\\nMolly Harris\\n\\nThanks.\\n\\nCarol\\n\\n\\n\\n\\n\\n\",\n",
       "  \"Suzanne:\\nCould you please check the names of Cathy Tudon and Nidia Martinez?  They \\nneed to be included on this and I wasn't sure if who we sent it to covered \\nthem.  Seems like last time we had a problem sending it to them.\\nCarol\",\n",
       "  'I will not be able to attend.\\n\\n\\n\\n\\nSuzanne Adams\\n04/18/2000 12:05 PM\\nTo: Carol St Clair/HOU/ECT@ECT, Mark Taylor/HOU/ECT@ECT, Sara \\nShackleton/HOU/ECT@ECT, Tana Jones/HOU/ECT@ECT, Susan Flynn/HOU/ECT@ECT, \\nSusan Bailey/HOU/ECT@ECT, Tanya Rohauer/HOU/ECT@ECT, William S \\nBradford/HOU/ECT@ECT, Debbie R Brackett/HOU/ECT@ECT, Russell \\nDiamond/HOU/ECT@ECT, Veronica Espinoza/Corp/Enron@ENRON, Tracy \\nNgo/HOU/ECT@ECT, Brant Reves/HOU/ECT@ECT, Rod Nelson/HOU/ECT@ECT, John \\nSuttle/HOU/ECT@ECT, Tom Moran/HOU/ECT@ECT, Christopher Smith/HOU/ECT@ECT, \\nLesli Campbell/HOU/ECT@ECT, Mary Tudon/HOU/ECT@ECT, Paul \\nRadous/Corp/Enron@ENRON, Molly Harris/HOU/ECT@ECT, Nidia Mendoza/HOU/ECT@ECT, \\nEdward Sacks/Corp/Enron@Enron, Brad Schneider/Corp/Enron@Enron, Wendi \\nLeBrocq/Corp/Enron@Enron\\ncc:  \\nSubject: Credit Group Lunch\\n\\nA lunch meeting has been scheduled for Friday, May 5, 2000, from 12:00 p.m. \\nuntil 1:30 p.m. in 30C2 to go through in detail how the ISDA and CSA Masters \\nand Schedules work.\\n\\nPlease reply as soon as possible if you are going to attend this lunch \\nmeeting (for catering purposes).  Thanks.\\n\\n'],\n",
       " 'uris': None,\n",
       " 'included': ['metadatas', 'documents', 'embeddings'],\n",
       " 'data': None,\n",
       " 'metadatas': [{'timestamp': '2002-01-29 11:23:42',\n",
       "   'from': 'Gossett, Jeffrey C. JGOSSET',\n",
       "   'to': \"['Giron', 'Darron C. Dgiron', 'Love', 'Phillip M. Plove']\",\n",
       "   'subject': 'FW: Master Termination Log',\n",
       "   'thread_id': 1},\n",
       "  {'subject': 'FW: Master Termination Log',\n",
       "   'timestamp': '2002-01-31 12:50:00',\n",
       "   'thread_id': 1,\n",
       "   'from': 'Theriot, Kim S. KTHERIO',\n",
       "   'to': \"['Murphy', 'Melissa Mmurphy', 'Gossett', 'Jeffrey C. Jgosset', 'White', 'Stacey W. Swhite', 'Hall', 'D. Todd Thall', 'Sweeney', 'Kevin Ksweene', 'Anderson', 'Diane Danders2', 'Hunter', 'Larry Joe Jhunte2']\"},\n",
       "  {'thread_id': 1,\n",
       "   'to': \"['Murphy', 'Melissa Mmurphy', 'Anderson', 'Diane Danders2', 'White', 'Stacey W. Swhite', 'Gossett', 'Jeffrey C. Jgosset', 'Hall', 'D. Todd Thall', 'Sweeney', 'Kevin Ksweene', 'Aucoin', 'Evelyn Eaucoin', 'Baxter', 'Bryce Bbaxter']\",\n",
       "   'timestamp': '2002-02-05 15:03:35',\n",
       "   'subject': 'FW: Master Termination Log',\n",
       "   'from': 'Theriot, Kim S. KTHERIO'},\n",
       "  {'thread_id': 1,\n",
       "   'subject': 'FW: Master Termination Log',\n",
       "   'from': 'Theriot, Kim S. KTHERIO',\n",
       "   'to': \"['Hall', 'D. Todd Thall', 'Sweeney', 'Kevin Ksweene', 'Anderson', 'Diane Danders2', 'Gossett', 'Jeffrey C. Jgosset', 'White', 'Stacey W. Swhite', 'Murphy', 'Melissa Mmurphy']\",\n",
       "   'timestamp': '2002-02-05 15:06:25'},\n",
       "  {'to': \"['Germany', 'Chris Cgerman']\",\n",
       "   'subject': 'FW: Master Termination Log',\n",
       "   'timestamp': '2002-05-28 07:20:35',\n",
       "   'from': 'Kelly, Katherine L. KKELLY',\n",
       "   'thread_id': 1},\n",
       "  {'subject': 'Credit Group Lunch',\n",
       "   'timestamp': '2000-01-12 05:26:00',\n",
       "   'to': \"['Suzanne Adams']\",\n",
       "   'from': 'Tana Jones',\n",
       "   'thread_id': 2},\n",
       "  {'subject': 'Credit Group Lunch',\n",
       "   'from': 'Tana Jones',\n",
       "   'thread_id': 2,\n",
       "   'to': \"['Suzanne Adams']\",\n",
       "   'timestamp': '2000-02-15 01:08:00'},\n",
       "  {'timestamp': '2000-04-18 04:54:00',\n",
       "   'to': \"['Suzanne Adams']\",\n",
       "   'thread_id': 2,\n",
       "   'from': 'Carol St Clair',\n",
       "   'subject': 'Credit Group Lunch'},\n",
       "  {'from': 'Carol St Clair',\n",
       "   'thread_id': 2,\n",
       "   'timestamp': '2000-04-18 06:13:00',\n",
       "   'to': \"['Suzanne Adams']\",\n",
       "   'subject': 'Credit Group Lunch'},\n",
       "  {'to': \"['Suzanne Adams']\",\n",
       "   'subject': 'Credit Group Lunch',\n",
       "   'from': 'Mark Taylor',\n",
       "   'thread_id': 2,\n",
       "   'timestamp': '2000-04-18 08:25:00'}]}"
      ]
     },
     "execution_count": 25,
     "metadata": {},
     "output_type": "execute_result"
    }
   ],
   "source": [
    "email_details_collection.peek()"
   ]
  },
  {
   "cell_type": "markdown",
   "id": "0924f560",
   "metadata": {},
   "source": [
    "## The Search Layer"
   ]
  },
  {
   "cell_type": "code",
   "execution_count": 38,
   "id": "f9325227",
   "metadata": {},
   "outputs": [],
   "source": [
    "# query = \"Who proposed the chosen approach for the data migration and when?\"\n",
    "query = \"In which department does Paul Radous work?\""
   ]
  },
  {
   "cell_type": "code",
   "execution_count": 44,
   "id": "e54514ea",
   "metadata": {},
   "outputs": [],
   "source": [
    "related_thread = email_summaries_collection.query(\n",
    "    query_texts=query,\n",
    "    n_results=10\n",
    ")"
   ]
  },
  {
   "cell_type": "code",
   "execution_count": 45,
   "id": "75c0e6c1",
   "metadata": {},
   "outputs": [
    {
     "data": {
      "text/plain": [
       "{'ids': [['1832',\n",
       "   '2022',\n",
       "   '3085',\n",
       "   '1345',\n",
       "   '2824',\n",
       "   '597',\n",
       "   '3986',\n",
       "   '424',\n",
       "   '3036',\n",
       "   '4098']],\n",
       " 'embeddings': None,\n",
       " 'documents': [['Paul is sending an email to both Harib and Jassem, attaching the latest update for the DPC project. He mentions that a printed copy of project photos will be sent separately. Paul provides his phone number for any questions. The email is repeated twice, with the same content and recipients.',\n",
       "   \"Laura informs Gregg that the damage appears to be limited and she has spoken with Peoples for cooperation. Peoples is dealing with a union walk-out involving over a thousand employees. Gregg forwards Laura an image. Gerald provides Laura with Paul's phone number and mentions looking up an Acura online. LT Bieraugel sends Gerald a picture from a cruise they took in January.\",\n",
       "   'The email thread involves a conversation between Jeff Dasovich and Paul Kaufman. Jeff initially sends an email stating that he quits, to which Paul responds by firing him. Jeff then asks Paul about a package, to which Paul admits he has no idea and asks Jeff to contact Rick for clarification. The same exchange is repeated again. The thread also includes an unrelated email from Elizabeth Webb requesting information about new employees or employees leaving.',\n",
       "   \"Dana Davis informs the recipients that she will be leaving the office early and will be available for urgent issues via cell phone. She apologizes for forgetting to inform them earlier. She forwards the email to a group of people, including Rufino Doroteo, and asks if it's okay for her to leave at 4 pm. She offers to stay if anyone needs her assistance after that time.\",\n",
       "   \"Jeff sends an email to Paul, asking for his opinion on a list of reviewers. Paul responds, saying the list looks good and that he doesn't need to be listed as a reviewer. Jeff acknowledges Paul's response and mentions a frustrating situation on a litigation call where he had to request a fax be sent to the San Francisco office.\",\n",
       "   \"Lance is working on an urgent project and worked all night. There are concerns about the company's financial situation. Marie asks about Eric's meeting with attorneys and if Mary Nell and Peter were given packages. Robbi is processing orders and mentions the high mark-up in stores. Marie requests taxes to be added and offers to pay in advance. Robbi is also working on an application for Robert Allen. Marie speculates on the reasons for the emergency project and mentions issues with a Master Netting agreement.\",\n",
       "   'For emergency situations, contact me on my cell phone at (713) 824-5448. I will be out of the office from Friday, Dec 28 to Wednesday, Jan 2. Leave a voice mail at 713-345-7712 or reach out to Paul Radous, Wendy Conwell, or Kortney Brown. If you need to reach me urgently, call my cell phone at (281) 382-5215. I will be out of the office on Friday, December 28 and Monday, December 31.',\n",
       "   'Jeff Dasovich informs Christopher Calger that there is a delay in finalizing a rate agreement between the Department of Water Resources (DWR) and the Public Utilities Commission (PUC) due to a PUC lawyer being on vacation. Dasovich also mentions that the agreement aims to ensure that the PUC does not interfere with the funds needed by DWR to maintain its creditworthiness. Calger asks Dasovich for assistance in creating a financial forecast for DWR/State of California.',\n",
       "   \"Vasant provides feedback on two candidates for a role at Credit.com. He describes Philip as having an excellent background but somewhat idealistic views. Zak is seen as unfocused and academically oriented. Bryan asks Vince for assistance and feedback from his team. Vince confirms arrangements for bringing the candidates to Houston for an interview. Louise asks Rosalinda to forward the CVs to Vince's assistant. Vince asks Shirley about the progress of bringing the candidates to Houston. Bryan thanks Vince and suggests discussing the candidates after Vince meets them.\",\n",
       "   'Christina Rawlings-Curtis reaches out to Paul Lucci via email, asking if he wants to cyber chat. Paul responds, asking if she is on the computer. Christina accuses Paul of hanging up on her and suggests he can reach her at home or on her cell. Paul asks when she is free and suggests doing something together. Christina asks what he has in mind, and Paul responds with enthusiasm. In a separate email, Christina informs Paul that she is free every day except Wednesday. Paul asks what she is doing later in the week and suggests she can take him out now that she has a job. The email thread ends with Christina trying to call Paul at home.']],\n",
       " 'uris': None,\n",
       " 'included': ['metadatas', 'documents', 'distances'],\n",
       " 'data': None,\n",
       " 'metadatas': [[{'thread_id': 1833, 'num_emails': 4, 'text_length': 50},\n",
       "   {'text_length': 62, 'num_emails': 4, 'thread_id': 2023},\n",
       "   {'num_emails': 5, 'text_length': 75, 'thread_id': 3086},\n",
       "   {'text_length': 67, 'thread_id': 1346, 'num_emails': 5},\n",
       "   {'text_length': 60, 'thread_id': 2825, 'num_emails': 4},\n",
       "   {'num_emails': 8, 'thread_id': 598, 'text_length': 85},\n",
       "   {'thread_id': 3987, 'num_emails': 4, 'text_length': 73},\n",
       "   {'text_length': 75, 'num_emails': 7, 'thread_id': 425},\n",
       "   {'thread_id': 3037, 'text_length': 87, 'num_emails': 5},\n",
       "   {'num_emails': 7, 'thread_id': 4099, 'text_length': 118}]],\n",
       " 'distances': [[0.41504329442977905,\n",
       "   0.4224517345428467,\n",
       "   0.42284440994262695,\n",
       "   0.42984604835510254,\n",
       "   0.42997661232948303,\n",
       "   0.4319569170475006,\n",
       "   0.43443194031715393,\n",
       "   0.43448352813720703,\n",
       "   0.4354694187641144,\n",
       "   0.4357273578643799]]}"
      ]
     },
     "execution_count": 45,
     "metadata": {},
     "output_type": "execute_result"
    }
   ],
   "source": [
    "related_thread"
   ]
  },
  {
   "cell_type": "code",
   "execution_count": 41,
   "id": "f80e1ffc",
   "metadata": {},
   "outputs": [
    {
     "data": {
      "text/plain": [
       "1833"
      ]
     },
     "execution_count": 41,
     "metadata": {},
     "output_type": "execute_result"
    }
   ],
   "source": [
    "related_thread['metadatas'][0][0]['thread_id']"
   ]
  },
  {
   "cell_type": "code",
   "execution_count": 42,
   "id": "c51934cc",
   "metadata": {},
   "outputs": [],
   "source": [
    "related_emails = email_details_collection.query(\n",
    "    query_texts=query,\n",
    "    n_results=10,\n",
    "    where={\"thread_id\": related_thread['metadatas'][0][0]['thread_id']}\n",
    ")"
   ]
  },
  {
   "cell_type": "code",
   "execution_count": 43,
   "id": "86f58624",
   "metadata": {},
   "outputs": [
    {
     "data": {
      "text/plain": [
       "{'ids': [['9602', '9603', '9600', '9601']],\n",
       " 'embeddings': None,\n",
       " 'documents': [['Jassem,\\n\\nAttached is the latest update for the DPC project. A printed copy of project photos is being forwarded to you seperately. If you have any questions, please feel free to call me at 713 345-5855.\\n\\nBest Regards,\\n\\nPaul\\n\\n\\n ',\n",
       "   'Harib,\\n\\nAttached is the latest update for the DPC project. A printed copy of project photos is being forwarded to you seperately. If you have any questions, please feel free to call me at 713 345-5855.\\n\\nBest Regards,\\n\\nPaul\\n\\n\\n ',\n",
       "   'Jassem,\\n\\nAttached is the latest update for the DPC project. A printed copy of project \\nphotos is being forwarded to you seperately. If you have any questions, \\nplease feel free to call me at 713 345-5855.\\n\\nBest Regards,\\n\\nPaul\\n\\n',\n",
       "   'Harib,\\n\\nAttached is the latest update for the DPC project. A printed copy of project \\nphotos is being forwarded to you seperately. If you have any questions, \\nplease feel free to call me at 713 345-5855.\\n\\nBest Regards,\\n\\nPaul\\n\\n']],\n",
       " 'uris': None,\n",
       " 'included': ['metadatas', 'documents', 'distances'],\n",
       " 'data': None,\n",
       " 'metadatas': [[{'from': \"Paul Y'Barbo\",\n",
       "    'timestamp': '2001-04-20 19:26:00',\n",
       "    'to': \"['jasultan <jasultan@adgas.co.ae']\",\n",
       "    'thread_id': 1833,\n",
       "    'subject': 'DPC Update - March 2001'},\n",
       "   {'timestamp': '2001-04-20 19:29:00',\n",
       "    'from': \"Paul Y'Barbo\",\n",
       "    'to': \"['harib.h.alkitani <harib.h.alkitani@olng.simis.com']\",\n",
       "    'thread_id': 1833,\n",
       "    'subject': 'DPC Update - March 2001'},\n",
       "   {'thread_id': 1833,\n",
       "    'from': \"Paul Y'Barbo\",\n",
       "    'timestamp': '2001-04-20 09:26:00',\n",
       "    'to': \"['jasultan@adgas.co.ae']\",\n",
       "    'subject': 'DPC Update - March 2001'},\n",
       "   {'timestamp': '2001-04-20 09:29:00',\n",
       "    'subject': 'DPC Update - March 2001',\n",
       "    'from': \"Paul Y'Barbo\",\n",
       "    'thread_id': 1833,\n",
       "    'to': \"['harib.h.alkitani@olng.simis.com']\"}]],\n",
       " 'distances': [[0.4673421382904053,\n",
       "   0.4736897945404053,\n",
       "   0.47544926404953003,\n",
       "   0.4824676215648651]]}"
      ]
     },
     "execution_count": 43,
     "metadata": {},
     "output_type": "execute_result"
    }
   ],
   "source": [
    "related_emails"
   ]
  },
  {
   "cell_type": "code",
   "execution_count": null,
   "id": "775b29d7",
   "metadata": {},
   "outputs": [],
   "source": []
  }
 ],
 "metadata": {
  "kernelspec": {
   "display_name": ".venv (3.12.7)",
   "language": "python",
   "name": "python3"
  },
  "language_info": {
   "codemirror_mode": {
    "name": "ipython",
    "version": 3
   },
   "file_extension": ".py",
   "mimetype": "text/x-python",
   "name": "python",
   "nbconvert_exporter": "python",
   "pygments_lexer": "ipython3",
   "version": "3.12.7"
  }
 },
 "nbformat": 4,
 "nbformat_minor": 5
}
